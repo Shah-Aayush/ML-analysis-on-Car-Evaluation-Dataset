{
  "nbformat": 4,
  "nbformat_minor": 0,
  "metadata": {
    "colab": {
      "name": "final_innovative_assignment (3).ipynb",
      "provenance": [],
      "collapsed_sections": []
    },
    "kernelspec": {
      "name": "python3",
      "display_name": "Python 3"
    },
    "language_info": {
      "name": "python"
    }
  },
  "cells": [
    {
      "cell_type": "markdown",
      "metadata": {
        "id": "Ly9zmS6x9UFS"
      },
      "source": [
        "# **ML TERM ASSIGNMENT**\n",
        "\n",
        "Dataset taken : [**Car Evaluation Data Set**](https://archive.ics.uci.edu/ml/datasets/car+evaluation)\n",
        "\n",
        "---\n",
        "\n",
        "Date: **14.11.2021**\n",
        "\n",
        "Roll No. and Name:  \n",
        "\n",
        "1.   **19BCE238 HARSHIL SANGHVI**\n",
        "2.   **19BCE245 AAYUSH SHAH**\n",
        "\n",
        "Course Code and Name: **2CS501 MACHINE LEARNING**\n",
        "\n",
        "---"
      ]
    },
    {
      "cell_type": "markdown",
      "metadata": {
        "id": "M3INL4C79kP8"
      },
      "source": [
        "## **Importing the libraries**"
      ]
    },
    {
      "cell_type": "markdown",
      "metadata": {
        "id": "LO81U0yf-CJx"
      },
      "source": [
        "- Only basic libraries imported here"
      ]
    },
    {
      "cell_type": "code",
      "metadata": {
        "id": "qPqG2WKO9N9y"
      },
      "source": [
        "import numpy as np\n",
        "import pandas as pd\n",
        "import seaborn as sns\n",
        "import matplotlib.pyplot as plt"
      ],
      "execution_count": null,
      "outputs": []
    },
    {
      "cell_type": "markdown",
      "metadata": {
        "id": "_iteDVaG-WOd"
      },
      "source": [
        "## **Importing the dataset**\n",
        "\n",
        "- **Dataset information:**\n",
        "\n",
        "  - The dataset presented here is a multivariate dataset having 6 attributes. There are total 1728 instances in the dataset which can be splitted into training and testing data on user's own discretion.\n",
        "\n",
        "  - The dataset has no missing values and the data type of attributes given in the dataset is categorical.\n",
        "\n",
        "  - There are total 7 columns in the dataset where first six columns are of attributes namely:\n",
        "\n",
        "    1.   Buying\n",
        "    2.   Maintenance\n",
        "    3.   Doors\n",
        "    4.   Persons\n",
        "    5.   Lug_Boot\n",
        "    6.   Safety\n",
        "\n",
        "  - Here, we are tasked to classify the acceptability of the car on the basis of above mentioned attributes. The car is tasked to be classified into four classes namely:\n",
        "\n",
        "    1.   Unacc\n",
        "    2.   Acc\n",
        "    3.   Good\n",
        "    4.   Vgood\n",
        "\n",
        "- **Reading the dataset from csv file:**\n",
        "\n",
        "  - Firstly, we read the csv file using standard function of pandas library i.e. read_csv. We read this file into dataframe named data.\n",
        "\n",
        "  - Next we set the column names manually as the dataset does not have the column names in csv.\n",
        "\n",
        "  - Proceeding ahead, we convert all the string values of dataset into suitable integer values as the ML classification algorithms cannot deal with the string data. This task was accomplished by mapping all the string values to integral values."
      ]
    },
    {
      "cell_type": "code",
      "metadata": {
        "id": "8Q3NxRJX-84P"
      },
      "source": [
        "dataset = pd.read_csv('car.csv', names=['buying','maint','doors','persons','lug boot','safety','class'])"
      ],
      "execution_count": null,
      "outputs": []
    },
    {
      "cell_type": "markdown",
      "metadata": {
        "id": "2LUw2QaqATCd"
      },
      "source": [
        "## **Explanatory Data Analysis**"
      ]
    },
    {
      "cell_type": "markdown",
      "metadata": {
        "id": "OccuT_cdAd5_"
      },
      "source": [
        "- Available Columns : "
      ]
    },
    {
      "cell_type": "code",
      "metadata": {
        "id": "vxOGVqgIAWr6",
        "colab": {
          "base_uri": "https://localhost:8080/"
        },
        "outputId": "5490173f-8650-409c-b34b-a71376335141"
      },
      "source": [
        "list(dataset.columns)"
      ],
      "execution_count": null,
      "outputs": [
        {
          "output_type": "execute_result",
          "data": {
            "text/plain": [
              "['buying', 'maint', 'doors', 'persons', 'lug boot', 'safety', 'class']"
            ]
          },
          "metadata": {},
          "execution_count": 91
        }
      ]
    },
    {
      "cell_type": "markdown",
      "metadata": {
        "id": "iBJaVVBoAhK-"
      },
      "source": [
        "- Printing first 5 rows of dataset : "
      ]
    },
    {
      "cell_type": "code",
      "metadata": {
        "id": "2OR2iqqqAhhC",
        "colab": {
          "base_uri": "https://localhost:8080/",
          "height": 203
        },
        "outputId": "190fd0c1-eaf2-4af0-b87e-362b0bad2b2e"
      },
      "source": [
        "dataset.head()"
      ],
      "execution_count": null,
      "outputs": [
        {
          "output_type": "execute_result",
          "data": {
            "text/html": [
              "<div>\n",
              "<style scoped>\n",
              "    .dataframe tbody tr th:only-of-type {\n",
              "        vertical-align: middle;\n",
              "    }\n",
              "\n",
              "    .dataframe tbody tr th {\n",
              "        vertical-align: top;\n",
              "    }\n",
              "\n",
              "    .dataframe thead th {\n",
              "        text-align: right;\n",
              "    }\n",
              "</style>\n",
              "<table border=\"1\" class=\"dataframe\">\n",
              "  <thead>\n",
              "    <tr style=\"text-align: right;\">\n",
              "      <th></th>\n",
              "      <th>buying</th>\n",
              "      <th>maint</th>\n",
              "      <th>doors</th>\n",
              "      <th>persons</th>\n",
              "      <th>lug boot</th>\n",
              "      <th>safety</th>\n",
              "      <th>class</th>\n",
              "    </tr>\n",
              "  </thead>\n",
              "  <tbody>\n",
              "    <tr>\n",
              "      <th>0</th>\n",
              "      <td>vhigh</td>\n",
              "      <td>vhigh</td>\n",
              "      <td>2</td>\n",
              "      <td>2</td>\n",
              "      <td>small</td>\n",
              "      <td>low</td>\n",
              "      <td>unacc</td>\n",
              "    </tr>\n",
              "    <tr>\n",
              "      <th>1</th>\n",
              "      <td>vhigh</td>\n",
              "      <td>vhigh</td>\n",
              "      <td>2</td>\n",
              "      <td>2</td>\n",
              "      <td>small</td>\n",
              "      <td>med</td>\n",
              "      <td>unacc</td>\n",
              "    </tr>\n",
              "    <tr>\n",
              "      <th>2</th>\n",
              "      <td>vhigh</td>\n",
              "      <td>vhigh</td>\n",
              "      <td>2</td>\n",
              "      <td>2</td>\n",
              "      <td>small</td>\n",
              "      <td>high</td>\n",
              "      <td>unacc</td>\n",
              "    </tr>\n",
              "    <tr>\n",
              "      <th>3</th>\n",
              "      <td>vhigh</td>\n",
              "      <td>vhigh</td>\n",
              "      <td>2</td>\n",
              "      <td>2</td>\n",
              "      <td>med</td>\n",
              "      <td>low</td>\n",
              "      <td>unacc</td>\n",
              "    </tr>\n",
              "    <tr>\n",
              "      <th>4</th>\n",
              "      <td>vhigh</td>\n",
              "      <td>vhigh</td>\n",
              "      <td>2</td>\n",
              "      <td>2</td>\n",
              "      <td>med</td>\n",
              "      <td>med</td>\n",
              "      <td>unacc</td>\n",
              "    </tr>\n",
              "  </tbody>\n",
              "</table>\n",
              "</div>"
            ],
            "text/plain": [
              "  buying  maint doors persons lug boot safety  class\n",
              "0  vhigh  vhigh     2       2    small    low  unacc\n",
              "1  vhigh  vhigh     2       2    small    med  unacc\n",
              "2  vhigh  vhigh     2       2    small   high  unacc\n",
              "3  vhigh  vhigh     2       2      med    low  unacc\n",
              "4  vhigh  vhigh     2       2      med    med  unacc"
            ]
          },
          "metadata": {},
          "execution_count": 92
        }
      ]
    },
    {
      "cell_type": "markdown",
      "metadata": {
        "id": "LXerRQI9Aufl"
      },
      "source": [
        "- Getting information of dataset and checking of null values if any"
      ]
    },
    {
      "cell_type": "code",
      "metadata": {
        "id": "XKtRgXVBAu0A",
        "colab": {
          "base_uri": "https://localhost:8080/"
        },
        "outputId": "780ce40d-cbf7-4861-bd23-38e74b2290b4"
      },
      "source": [
        "dataset.info()"
      ],
      "execution_count": null,
      "outputs": [
        {
          "output_type": "stream",
          "name": "stdout",
          "text": [
            "<class 'pandas.core.frame.DataFrame'>\n",
            "RangeIndex: 1728 entries, 0 to 1727\n",
            "Data columns (total 7 columns):\n",
            " #   Column    Non-Null Count  Dtype \n",
            "---  ------    --------------  ----- \n",
            " 0   buying    1728 non-null   object\n",
            " 1   maint     1728 non-null   object\n",
            " 2   doors     1728 non-null   object\n",
            " 3   persons   1728 non-null   object\n",
            " 4   lug boot  1728 non-null   object\n",
            " 5   safety    1728 non-null   object\n",
            " 6   class     1728 non-null   object\n",
            "dtypes: object(7)\n",
            "memory usage: 94.6+ KB\n"
          ]
        }
      ]
    },
    {
      "cell_type": "markdown",
      "metadata": {
        "id": "Xc-v95JGA5qZ"
      },
      "source": [
        "- As all the columns are categorical, checking for unique values : "
      ]
    },
    {
      "cell_type": "code",
      "metadata": {
        "id": "SST4Ib_dA5ZK",
        "colab": {
          "base_uri": "https://localhost:8080/"
        },
        "outputId": "6ace915b-cedb-4081-e060-3a8e5a45b76a"
      },
      "source": [
        "for i in dataset.columns:\n",
        "  print(dataset[i].unique(),\"\\t\",dataset[i].nunique())"
      ],
      "execution_count": null,
      "outputs": [
        {
          "output_type": "stream",
          "name": "stdout",
          "text": [
            "['vhigh' 'high' 'med' 'low'] \t 4\n",
            "['vhigh' 'high' 'med' 'low'] \t 4\n",
            "['2' '3' '4' '5more'] \t 4\n",
            "['2' '4' 'more'] \t 3\n",
            "['small' 'med' 'big'] \t 3\n",
            "['low' 'med' 'high'] \t 3\n",
            "['unacc' 'acc' 'vgood' 'good'] \t 4\n"
          ]
        }
      ]
    },
    {
      "cell_type": "markdown",
      "metadata": {
        "id": "hU255bgNBkTN"
      },
      "source": [
        "- Checking how unique categories are distributed among the columns : \n",
        "  > All of the columns except 'class' are distributed equally among the data, as shown in the below output."
      ]
    },
    {
      "cell_type": "code",
      "metadata": {
        "id": "Bp1EVq5LBo-d",
        "colab": {
          "base_uri": "https://localhost:8080/"
        },
        "outputId": "e1b05c93-48b5-4203-a3a5-838abdb12f88"
      },
      "source": [
        "for i in dataset.columns:\n",
        "  print(dataset[i].value_counts())\n",
        "  print()"
      ],
      "execution_count": null,
      "outputs": [
        {
          "output_type": "stream",
          "name": "stdout",
          "text": [
            "low      432\n",
            "med      432\n",
            "vhigh    432\n",
            "high     432\n",
            "Name: buying, dtype: int64\n",
            "\n",
            "low      432\n",
            "med      432\n",
            "vhigh    432\n",
            "high     432\n",
            "Name: maint, dtype: int64\n",
            "\n",
            "3        432\n",
            "4        432\n",
            "5more    432\n",
            "2        432\n",
            "Name: doors, dtype: int64\n",
            "\n",
            "4       576\n",
            "more    576\n",
            "2       576\n",
            "Name: persons, dtype: int64\n",
            "\n",
            "small    576\n",
            "big      576\n",
            "med      576\n",
            "Name: lug boot, dtype: int64\n",
            "\n",
            "low     576\n",
            "med     576\n",
            "high    576\n",
            "Name: safety, dtype: int64\n",
            "\n",
            "unacc    1210\n",
            "acc       384\n",
            "good       69\n",
            "vgood      65\n",
            "Name: class, dtype: int64\n",
            "\n"
          ]
        }
      ]
    },
    {
      "cell_type": "markdown",
      "metadata": {
        "id": "63AkxmG4CP6c"
      },
      "source": [
        "### Graphs :"
      ]
    },
    {
      "cell_type": "markdown",
      "metadata": {
        "id": "WrWdADyPCiZp"
      },
      "source": [
        "- The graph below shows the number of unique values in each column.\n",
        "  > The graph shows that the result 'class' is unbalanced due to higher values of 'unacc'. As a result, there is a difficulty with an unbalanced multiclass classification.\n"
      ]
    },
    {
      "cell_type": "code",
      "metadata": {
        "colab": {
          "base_uri": "https://localhost:8080/",
          "height": 296
        },
        "id": "h4poLCVtCQLp",
        "outputId": "41777151-43f6-44a8-be45-52431e1e890c"
      },
      "source": [
        "sns.countplot(x = dataset['class'])"
      ],
      "execution_count": null,
      "outputs": [
        {
          "output_type": "execute_result",
          "data": {
            "text/plain": [
              "<matplotlib.axes._subplots.AxesSubplot at 0x7ffa6675d710>"
            ]
          },
          "metadata": {},
          "execution_count": 96
        },
        {
          "output_type": "display_data",
          "data": {
            "image/png": "[encoded data removed]",
            "text/plain": [
              "<Figure size 432x288 with 1 Axes>"
            ]
          },
          "metadata": {
            "needs_background": "light"
          }
        }
      ]
    },
    {
      "cell_type": "markdown",
      "metadata": {
        "id": "Vg56x8AZCypb"
      },
      "source": [
        "- For each feature in our data, We looked at how the 'class' is distributed."
      ]
    },
    {
      "cell_type": "code",
      "metadata": {
        "colab": {
          "base_uri": "https://localhost:8080/",
          "height": 1000
        },
        "id": "sVhA3gxwC7vd",
        "outputId": "bffce2cd-9d67-4bf6-b7ab-b89f1a869f6d"
      },
      "source": [
        "for i in dataset.columns[:-1]:\n",
        "    plt.figure(figsize=(12,6))\n",
        "    plt.title(\"For feature '%s'\"%i)\n",
        "    sns.countplot(x = dataset[i],hue=dataset['class'])"
      ],
      "execution_count": null,
      "outputs": [
        {
          "output_type": "display_data",
          "data": {
            "image/png": "[encoded data removed]",
            "text/plain": [
              "<Figure size 864x432 with 1 Axes>"
            ]
          },
          "metadata": {
            "needs_background": "light"
          }
        },
        {
          "output_type": "display_data",
          "data": {
            "image/png": "[encoded data removed]",
            "text/plain": [
              "<Figure size 864x432 with 1 Axes>"
            ]
          },
          "metadata": {
            "needs_background": "light"
          }
        },
        {
          "output_type": "display_data",
          "data": {
            "image/png": "[encoded data removed]",
            "text/plain": [
              "<Figure size 864x432 with 1 Axes>"
            ]
          },
          "metadata": {
            "needs_background": "light"
          }
        },
        {
          "output_type": "display_data",
          "data": {
            "image/png": "[encoded data removed]",
            "text/plain": [
              "<Figure size 864x432 with 1 Axes>"
            ]
          },
          "metadata": {
            "needs_background": "light"
          }
        },
        {
          "output_type": "display_data",
          "data": {
            "image/png": "[encoded data removed]",
            "text/plain": [
              "<Figure size 864x432 with 1 Axes>"
            ]
          },
          "metadata": {
            "needs_background": "light"
          }
        },
        {
          "output_type": "display_data",
          "data": {
            "image/png": "[encoded data removed]",
            "text/plain": [
              "<Figure size 864x432 with 1 Axes>"
            ]
          },
          "metadata": {
            "needs_background": "light"
          }
        }
      ]
    },
    {
      "cell_type": "markdown",
      "metadata": {
        "id": "hcQDqfE9DH8Q"
      },
      "source": [
        "## **Encoding categorical data**\n",
        "\n",
        "- We transformed string categories to integers because scikit-learn algorithms don't usually operate with string values."
      ]
    },
    {
      "cell_type": "code",
      "metadata": {
        "id": "em5z2eo5DLTp",
        "colab": {
          "base_uri": "https://localhost:8080/",
          "height": 417
        },
        "outputId": "e4a336f0-bea0-4496-a826-3e6cb27153e3"
      },
      "source": [
        "from sklearn.preprocessing import LabelEncoder\n",
        "le = LabelEncoder()\n",
        "dataset.columns = ['Buying','Maintenance','Doors','Persons','Lug_Boot','Safety','Acceptability']\n",
        "dataset['Buying'] = dataset['Buying'].map({'vhigh':3,'high':2,'med':1,'low':0})\n",
        "dataset['Maintenance'] = dataset['Maintenance'].map({'vhigh':3,'high':2,'med':1,'low':0})\n",
        "dataset['Lug_Boot'] = dataset['Lug_Boot'].map({'big':2,'med':1,'small':0})\n",
        "dataset['Safety'] = dataset['Safety'].map({'high':2,'med':1,'low':0})\n",
        "dataset['Acceptability'] = dataset['Acceptability'].map({'unacc':0,'acc':1,'good':2, 'vgood':3})\n",
        "dataset['Doors'] = dataset['Doors'].map({'2':2, '3':3, '4':4, '5more':5})\n",
        "dataset['Persons'] = dataset['Persons'].map({'2':2, '4':4, 'more':5})\n",
        "\n",
        "dataset"
      ],
      "execution_count": null,
      "outputs": [
        {
          "output_type": "execute_result",
          "data": {
            "text/html": [
              "<div>\n",
              "<style scoped>\n",
              "    .dataframe tbody tr th:only-of-type {\n",
              "        vertical-align: middle;\n",
              "    }\n",
              "\n",
              "    .dataframe tbody tr th {\n",
              "        vertical-align: top;\n",
              "    }\n",
              "\n",
              "    .dataframe thead th {\n",
              "        text-align: right;\n",
              "    }\n",
              "</style>\n",
              "<table border=\"1\" class=\"dataframe\">\n",
              "  <thead>\n",
              "    <tr style=\"text-align: right;\">\n",
              "      <th></th>\n",
              "      <th>Buying</th>\n",
              "      <th>Maintenance</th>\n",
              "      <th>Doors</th>\n",
              "      <th>Persons</th>\n",
              "      <th>Lug_Boot</th>\n",
              "      <th>Safety</th>\n",
              "      <th>Acceptability</th>\n",
              "    </tr>\n",
              "  </thead>\n",
              "  <tbody>\n",
              "    <tr>\n",
              "      <th>0</th>\n",
              "      <td>3</td>\n",
              "      <td>3</td>\n",
              "      <td>2</td>\n",
              "      <td>2</td>\n",
              "      <td>0</td>\n",
              "      <td>0</td>\n",
              "      <td>0</td>\n",
              "    </tr>\n",
              "    <tr>\n",
              "      <th>1</th>\n",
              "      <td>3</td>\n",
              "      <td>3</td>\n",
              "      <td>2</td>\n",
              "      <td>2</td>\n",
              "      <td>0</td>\n",
              "      <td>1</td>\n",
              "      <td>0</td>\n",
              "    </tr>\n",
              "    <tr>\n",
              "      <th>2</th>\n",
              "      <td>3</td>\n",
              "      <td>3</td>\n",
              "      <td>2</td>\n",
              "      <td>2</td>\n",
              "      <td>0</td>\n",
              "      <td>2</td>\n",
              "      <td>0</td>\n",
              "    </tr>\n",
              "    <tr>\n",
              "      <th>3</th>\n",
              "      <td>3</td>\n",
              "      <td>3</td>\n",
              "      <td>2</td>\n",
              "      <td>2</td>\n",
              "      <td>1</td>\n",
              "      <td>0</td>\n",
              "      <td>0</td>\n",
              "    </tr>\n",
              "    <tr>\n",
              "      <th>4</th>\n",
              "      <td>3</td>\n",
              "      <td>3</td>\n",
              "      <td>2</td>\n",
              "      <td>2</td>\n",
              "      <td>1</td>\n",
              "      <td>1</td>\n",
              "      <td>0</td>\n",
              "    </tr>\n",
              "    <tr>\n",
              "      <th>...</th>\n",
              "      <td>...</td>\n",
              "      <td>...</td>\n",
              "      <td>...</td>\n",
              "      <td>...</td>\n",
              "      <td>...</td>\n",
              "      <td>...</td>\n",
              "      <td>...</td>\n",
              "    </tr>\n",
              "    <tr>\n",
              "      <th>1723</th>\n",
              "      <td>0</td>\n",
              "      <td>0</td>\n",
              "      <td>5</td>\n",
              "      <td>5</td>\n",
              "      <td>1</td>\n",
              "      <td>1</td>\n",
              "      <td>2</td>\n",
              "    </tr>\n",
              "    <tr>\n",
              "      <th>1724</th>\n",
              "      <td>0</td>\n",
              "      <td>0</td>\n",
              "      <td>5</td>\n",
              "      <td>5</td>\n",
              "      <td>1</td>\n",
              "      <td>2</td>\n",
              "      <td>3</td>\n",
              "    </tr>\n",
              "    <tr>\n",
              "      <th>1725</th>\n",
              "      <td>0</td>\n",
              "      <td>0</td>\n",
              "      <td>5</td>\n",
              "      <td>5</td>\n",
              "      <td>2</td>\n",
              "      <td>0</td>\n",
              "      <td>0</td>\n",
              "    </tr>\n",
              "    <tr>\n",
              "      <th>1726</th>\n",
              "      <td>0</td>\n",
              "      <td>0</td>\n",
              "      <td>5</td>\n",
              "      <td>5</td>\n",
              "      <td>2</td>\n",
              "      <td>1</td>\n",
              "      <td>2</td>\n",
              "    </tr>\n",
              "    <tr>\n",
              "      <th>1727</th>\n",
              "      <td>0</td>\n",
              "      <td>0</td>\n",
              "      <td>5</td>\n",
              "      <td>5</td>\n",
              "      <td>2</td>\n",
              "      <td>2</td>\n",
              "      <td>3</td>\n",
              "    </tr>\n",
              "  </tbody>\n",
              "</table>\n",
              "<p>1728 rows × 7 columns</p>\n",
              "</div>"
            ],
            "text/plain": [
              "      Buying  Maintenance  Doors  Persons  Lug_Boot  Safety  Acceptability\n",
              "0          3            3      2        2         0       0              0\n",
              "1          3            3      2        2         0       1              0\n",
              "2          3            3      2        2         0       2              0\n",
              "3          3            3      2        2         1       0              0\n",
              "4          3            3      2        2         1       1              0\n",
              "...      ...          ...    ...      ...       ...     ...            ...\n",
              "1723       0            0      5        5         1       1              2\n",
              "1724       0            0      5        5         1       2              3\n",
              "1725       0            0      5        5         2       0              0\n",
              "1726       0            0      5        5         2       1              2\n",
              "1727       0            0      5        5         2       2              3\n",
              "\n",
              "[1728 rows x 7 columns]"
            ]
          },
          "metadata": {},
          "execution_count": 98
        }
      ]
    },
    {
      "cell_type": "markdown",
      "metadata": {
        "id": "NDC6Li8rD0rW"
      },
      "source": [
        "- Splitting dataset into independent variable `X` and dependent variable `y` : "
      ]
    },
    {
      "cell_type": "code",
      "metadata": {
        "id": "kRgdf2ruDq-Y"
      },
      "source": [
        "X = dataset.iloc[:,:-1].values\n",
        "y = dataset.iloc[:,-1].values"
      ],
      "execution_count": null,
      "outputs": []
    },
    {
      "cell_type": "markdown",
      "metadata": {
        "id": "tpBr23MiEKrQ"
      },
      "source": [
        "- Independent variable `X` : "
      ]
    },
    {
      "cell_type": "code",
      "metadata": {
        "id": "dNjXYqC7D8Tg",
        "colab": {
          "base_uri": "https://localhost:8080/",
          "height": 417
        },
        "outputId": "1c99ada7-3b7f-450f-d861-fc07e8f6b85b"
      },
      "source": [
        "dataset.iloc[:,:-1]"
      ],
      "execution_count": null,
      "outputs": [
        {
          "output_type": "execute_result",
          "data": {
            "text/html": [
              "<div>\n",
              "<style scoped>\n",
              "    .dataframe tbody tr th:only-of-type {\n",
              "        vertical-align: middle;\n",
              "    }\n",
              "\n",
              "    .dataframe tbody tr th {\n",
              "        vertical-align: top;\n",
              "    }\n",
              "\n",
              "    .dataframe thead th {\n",
              "        text-align: right;\n",
              "    }\n",
              "</style>\n",
              "<table border=\"1\" class=\"dataframe\">\n",
              "  <thead>\n",
              "    <tr style=\"text-align: right;\">\n",
              "      <th></th>\n",
              "      <th>Buying</th>\n",
              "      <th>Maintenance</th>\n",
              "      <th>Doors</th>\n",
              "      <th>Persons</th>\n",
              "      <th>Lug_Boot</th>\n",
              "      <th>Safety</th>\n",
              "    </tr>\n",
              "  </thead>\n",
              "  <tbody>\n",
              "    <tr>\n",
              "      <th>0</th>\n",
              "      <td>3</td>\n",
              "      <td>3</td>\n",
              "      <td>2</td>\n",
              "      <td>2</td>\n",
              "      <td>0</td>\n",
              "      <td>0</td>\n",
              "    </tr>\n",
              "    <tr>\n",
              "      <th>1</th>\n",
              "      <td>3</td>\n",
              "      <td>3</td>\n",
              "      <td>2</td>\n",
              "      <td>2</td>\n",
              "      <td>0</td>\n",
              "      <td>1</td>\n",
              "    </tr>\n",
              "    <tr>\n",
              "      <th>2</th>\n",
              "      <td>3</td>\n",
              "      <td>3</td>\n",
              "      <td>2</td>\n",
              "      <td>2</td>\n",
              "      <td>0</td>\n",
              "      <td>2</td>\n",
              "    </tr>\n",
              "    <tr>\n",
              "      <th>3</th>\n",
              "      <td>3</td>\n",
              "      <td>3</td>\n",
              "      <td>2</td>\n",
              "      <td>2</td>\n",
              "      <td>1</td>\n",
              "      <td>0</td>\n",
              "    </tr>\n",
              "    <tr>\n",
              "      <th>4</th>\n",
              "      <td>3</td>\n",
              "      <td>3</td>\n",
              "      <td>2</td>\n",
              "      <td>2</td>\n",
              "      <td>1</td>\n",
              "      <td>1</td>\n",
              "    </tr>\n",
              "    <tr>\n",
              "      <th>...</th>\n",
              "      <td>...</td>\n",
              "      <td>...</td>\n",
              "      <td>...</td>\n",
              "      <td>...</td>\n",
              "      <td>...</td>\n",
              "      <td>...</td>\n",
              "    </tr>\n",
              "    <tr>\n",
              "      <th>1723</th>\n",
              "      <td>0</td>\n",
              "      <td>0</td>\n",
              "      <td>5</td>\n",
              "      <td>5</td>\n",
              "      <td>1</td>\n",
              "      <td>1</td>\n",
              "    </tr>\n",
              "    <tr>\n",
              "      <th>1724</th>\n",
              "      <td>0</td>\n",
              "      <td>0</td>\n",
              "      <td>5</td>\n",
              "      <td>5</td>\n",
              "      <td>1</td>\n",
              "      <td>2</td>\n",
              "    </tr>\n",
              "    <tr>\n",
              "      <th>1725</th>\n",
              "      <td>0</td>\n",
              "      <td>0</td>\n",
              "      <td>5</td>\n",
              "      <td>5</td>\n",
              "      <td>2</td>\n",
              "      <td>0</td>\n",
              "    </tr>\n",
              "    <tr>\n",
              "      <th>1726</th>\n",
              "      <td>0</td>\n",
              "      <td>0</td>\n",
              "      <td>5</td>\n",
              "      <td>5</td>\n",
              "      <td>2</td>\n",
              "      <td>1</td>\n",
              "    </tr>\n",
              "    <tr>\n",
              "      <th>1727</th>\n",
              "      <td>0</td>\n",
              "      <td>0</td>\n",
              "      <td>5</td>\n",
              "      <td>5</td>\n",
              "      <td>2</td>\n",
              "      <td>2</td>\n",
              "    </tr>\n",
              "  </tbody>\n",
              "</table>\n",
              "<p>1728 rows × 6 columns</p>\n",
              "</div>"
            ],
            "text/plain": [
              "      Buying  Maintenance  Doors  Persons  Lug_Boot  Safety\n",
              "0          3            3      2        2         0       0\n",
              "1          3            3      2        2         0       1\n",
              "2          3            3      2        2         0       2\n",
              "3          3            3      2        2         1       0\n",
              "4          3            3      2        2         1       1\n",
              "...      ...          ...    ...      ...       ...     ...\n",
              "1723       0            0      5        5         1       1\n",
              "1724       0            0      5        5         1       2\n",
              "1725       0            0      5        5         2       0\n",
              "1726       0            0      5        5         2       1\n",
              "1727       0            0      5        5         2       2\n",
              "\n",
              "[1728 rows x 6 columns]"
            ]
          },
          "metadata": {},
          "execution_count": 100
        }
      ]
    },
    {
      "cell_type": "markdown",
      "metadata": {
        "id": "XF7cCwvFETGe"
      },
      "source": [
        "- Dependent variable `y` : "
      ]
    },
    {
      "cell_type": "code",
      "metadata": {
        "id": "84zj37AXESy3",
        "colab": {
          "base_uri": "https://localhost:8080/"
        },
        "outputId": "dd63b105-5fed-413b-dbe5-0041a47fe27e"
      },
      "source": [
        "dataset.iloc[:,-1]"
      ],
      "execution_count": null,
      "outputs": [
        {
          "output_type": "execute_result",
          "data": {
            "text/plain": [
              "0       0\n",
              "1       0\n",
              "2       0\n",
              "3       0\n",
              "4       0\n",
              "       ..\n",
              "1723    2\n",
              "1724    3\n",
              "1725    0\n",
              "1726    2\n",
              "1727    3\n",
              "Name: Acceptability, Length: 1728, dtype: int64"
            ]
          },
          "metadata": {},
          "execution_count": 101
        }
      ]
    },
    {
      "cell_type": "markdown",
      "metadata": {
        "id": "SdAZ0exj_jOQ"
      },
      "source": [
        "## **Splitting the dataset into the training set and testing set**\n",
        "\n",
        "- Now we split the entire dataset into training and testing data. The ratio in which we want to split is stored in the split variable and then we make use of train_test_split function to do the required splitting quickly.\n"
      ]
    },
    {
      "cell_type": "code",
      "metadata": {
        "id": "tWm68-m-_pWI"
      },
      "source": [
        "from sklearn.model_selection import train_test_split\n",
        "\n",
        "split = 0.2\n",
        "X_train, X_test, y_train, y_test = train_test_split(X, y, test_size=split, random_state=0)"
      ],
      "execution_count": null,
      "outputs": []
    },
    {
      "cell_type": "markdown",
      "metadata": {
        "id": "BNzoZFTXEzCg"
      },
      "source": [
        "## **Feature Scaling** *(Preprocessing the data)*\n",
        "\n",
        "- Further we preprocess the training input data as well as testing input data by making use of StandardScaler. This helps us in standardizing features by removing the mean and scaling to unit variance."
      ]
    },
    {
      "cell_type": "markdown",
      "metadata": {
        "id": "nWUNdXLT7_4_"
      },
      "source": [
        "- As multinomial bayes doesn't accept negative values, this section is for Multinomial bayes input."
      ]
    },
    {
      "cell_type": "code",
      "metadata": {
        "id": "LJEvWOE07n-8"
      },
      "source": [
        "from sklearn.preprocessing import MinMaxScaler\n",
        "\n",
        "scaler_minMax = MinMaxScaler()\n",
        "X_train_mm = scaler_minMax.fit_transform(X_train)\n",
        "X_test_mm = scaler_minMax.transform(X_test)"
      ],
      "execution_count": null,
      "outputs": []
    },
    {
      "cell_type": "markdown",
      "metadata": {
        "id": "rlWez3pG8IY_"
      },
      "source": [
        "- For other models : "
      ]
    },
    {
      "cell_type": "code",
      "metadata": {
        "id": "FrvzMPK2E5ti"
      },
      "source": [
        "from sklearn.preprocessing import StandardScaler\n",
        "\n",
        "scaler = StandardScaler()\n",
        "X_train = scaler.fit_transform(X_train)\n",
        "X_test = scaler.transform(X_test)"
      ],
      "execution_count": null,
      "outputs": []
    },
    {
      "cell_type": "markdown",
      "metadata": {
        "id": "7fXFEir6FkAj"
      },
      "source": [
        "## **Classification of dataset along with analysis of different models** "
      ]
    },
    {
      "cell_type": "markdown",
      "metadata": {
        "id": "5C7oCJz9MNdy"
      },
      "source": [
        "### 1. **Logistic Regression**\n",
        "- This section creates a logistic regression classifier. Once the model is fit into training data, then it is used for testing purposes i.e. predictions are made on the input of testing data and analysis of the result is carried out.\n",
        "\n",
        "- Now the most important thing which is to be observed here is that as it is multi class classification, we use the one vs rest strategy. This is done by setting the value of multi_class as 'ovr' in LogisticRegression. The reason we need to this tweaks is that Logistic Regression does not natively support multi class classification and just supports binary classification.\n",
        "\n",
        "- In order to perform multi class classification with help of such native binary classifiers, we need to make use of schemes such as one vs rest etc."
      ]
    },
    {
      "cell_type": "code",
      "metadata": {
        "colab": {
          "base_uri": "https://localhost:8080/"
        },
        "id": "6N2-bx1eFtvJ",
        "outputId": "c5316541-a752-4142-8ace-90845aad8de8"
      },
      "source": [
        " from sklearn.linear_model import LogisticRegression\n",
        " clf_lr = LogisticRegression(multi_class = 'ovr', random_state=0)\n",
        " clf_lr.fit(X_train, y_train)   # fitting the training data into model"
      ],
      "execution_count": null,
      "outputs": [
        {
          "output_type": "execute_result",
          "data": {
            "text/plain": [
              "LogisticRegression(C=1.0, class_weight=None, dual=False, fit_intercept=True,\n",
              "                   intercept_scaling=1, l1_ratio=None, max_iter=100,\n",
              "                   multi_class='ovr', n_jobs=None, penalty='l2', random_state=0,\n",
              "                   solver='lbfgs', tol=0.0001, verbose=0, warm_start=False)"
            ]
          },
          "metadata": {},
          "execution_count": 105
        }
      ]
    },
    {
      "cell_type": "code",
      "metadata": {
        "id": "l0xzJ7SyNCQc"
      },
      "source": [
        "y_pred_lr = clf_lr.predict(X_test)  # making the predictions on the basis of trained model"
      ],
      "execution_count": null,
      "outputs": []
    },
    {
      "cell_type": "markdown",
      "metadata": {
        "id": "ZvbShoDvO1k7"
      },
      "source": [
        "### 2. **K-Nearest Neighbor (K-NN)**\n",
        "- This section creates a K nearest neighbors classifier and choose the best parameters for our classifier with the help of GridSearchCV. Then the fine tuned classifier i.e. clf_gs is used for the training of our data. Once the model is fit into training data, then it is used for testing purposes i.e. predictions are made on the input of testing data and analysis of the result is carried out."
      ]
    },
    {
      "cell_type": "code",
      "metadata": {
        "colab": {
          "base_uri": "https://localhost:8080/"
        },
        "id": "adt0fEi-PGy-",
        "outputId": "55d93d88-2307-489b-b5be-8c0b2931fac0"
      },
      "source": [
        "from sklearn.neighbors import KNeighborsClassifier\n",
        "clf_knn = KNeighborsClassifier(n_neighbors = 5, metric = 'minkowski', p = 2)\n",
        "clf_knn.fit(X_train, y_train)"
      ],
      "execution_count": null,
      "outputs": [
        {
          "output_type": "execute_result",
          "data": {
            "text/plain": [
              "KNeighborsClassifier(algorithm='auto', leaf_size=30, metric='minkowski',\n",
              "                     metric_params=None, n_jobs=None, n_neighbors=5, p=2,\n",
              "                     weights='uniform')"
            ]
          },
          "metadata": {},
          "execution_count": 107
        }
      ]
    },
    {
      "cell_type": "code",
      "metadata": {
        "id": "fvQlobcBPUKB"
      },
      "source": [
        "y_pred_knn = clf_knn.predict(X_test)"
      ],
      "execution_count": null,
      "outputs": []
    },
    {
      "cell_type": "markdown",
      "metadata": {
        "id": "sS_Ix353p5_C"
      },
      "source": [
        "- with Grid Search : "
      ]
    },
    {
      "cell_type": "code",
      "metadata": {
        "colab": {
          "base_uri": "https://localhost:8080/"
        },
        "id": "J6kqTUnvp9CU",
        "outputId": "11fe6851-11da-433e-f255-5071ca5ffe26"
      },
      "source": [
        "from sklearn.model_selection import GridSearchCV\n",
        "\n",
        "hyperparams = {\n",
        "                'n_neighbors' : [1, 5, 10, 25, 50, 100, 500, 900], \n",
        "                'weights' : ['uniform', 'distance']\n",
        "              }\n",
        "gs_knn = GridSearchCV(KNeighborsClassifier(), hyperparams, cv=5)\n",
        "gs_knn.fit(X_train, y_train)"
      ],
      "execution_count": null,
      "outputs": [
        {
          "output_type": "execute_result",
          "data": {
            "text/plain": [
              "GridSearchCV(cv=5, error_score=nan,\n",
              "             estimator=KNeighborsClassifier(algorithm='auto', leaf_size=30,\n",
              "                                            metric='minkowski',\n",
              "                                            metric_params=None, n_jobs=None,\n",
              "                                            n_neighbors=5, p=2,\n",
              "                                            weights='uniform'),\n",
              "             iid='deprecated', n_jobs=None,\n",
              "             param_grid={'n_neighbors': [1, 5, 10, 25, 50, 100, 500, 900],\n",
              "                         'weights': ['uniform', 'distance']},\n",
              "             pre_dispatch='2*n_jobs', refit=True, return_train_score=False,\n",
              "             scoring=None, verbose=0)"
            ]
          },
          "metadata": {},
          "execution_count": 109
        }
      ]
    },
    {
      "cell_type": "markdown",
      "metadata": {
        "id": "3hFl4NnRrBgd"
      },
      "source": [
        "- Printing The best Accuracy achieved through various combinations :"
      ]
    },
    {
      "cell_type": "code",
      "metadata": {
        "colab": {
          "base_uri": "https://localhost:8080/"
        },
        "id": "MFx0U7JirBgl",
        "outputId": "89a52548-59d2-4bda-8f44-05fa073acaa8"
      },
      "source": [
        "print(f\"Best Accuracy achieved : {gs_knn.best_score_*100:.2f}%\")"
      ],
      "execution_count": null,
      "outputs": [
        {
          "output_type": "stream",
          "name": "stdout",
          "text": [
            "Best Accuracy achieved : 95.95%\n"
          ]
        }
      ]
    },
    {
      "cell_type": "markdown",
      "metadata": {
        "id": "RhxRN1t-rBgl"
      },
      "source": [
        "- Priting the best parameters through which highest accuracy is achieved :"
      ]
    },
    {
      "cell_type": "code",
      "metadata": {
        "colab": {
          "base_uri": "https://localhost:8080/"
        },
        "id": "hkTLUKqnrBgm",
        "outputId": "7d8926d2-4bec-4546-ee0f-5390b5645a2c"
      },
      "source": [
        "print(f\"Best parameters achieved : {gs_knn.best_params_}\")"
      ],
      "execution_count": null,
      "outputs": [
        {
          "output_type": "stream",
          "name": "stdout",
          "text": [
            "Best parameters achieved : {'n_neighbors': 5, 'weights': 'distance'}\n"
          ]
        }
      ]
    },
    {
      "cell_type": "code",
      "metadata": {
        "id": "f8fQaUt_rBgm"
      },
      "source": [
        "y_pred_knnGS = gs_knn.predict(X_test)"
      ],
      "execution_count": null,
      "outputs": []
    },
    {
      "cell_type": "markdown",
      "metadata": {
        "id": "_C5GIC9SP0Uo"
      },
      "source": [
        "### 3. **Support Vector Machine (SVM)**\n",
        "\n",
        "- This section creates a support vector classifier. Once the model is fit into training data, then it is used for testing purposes i.e. predictions are made on the input of testing data and analysis of the result is carried out.\n",
        "\n",
        "- Now the most important thing which is to be observed here is that as it is multi class classification, we use the one vs rest strategy. This is done by setting the value of decision_function_shape as 'ovr' in SVC. The reason we need to this tweaks is that Support Vector Classifiers does not natively support multi class classification and just supports binary classification.\n",
        "\n",
        "- In order to perform multi class classification with help of such native binary classifiers, we need to make use of schemes such as one vs rest etc."
      ]
    },
    {
      "cell_type": "code",
      "metadata": {
        "id": "TiC5c2Ckr6MY"
      },
      "source": [
        "from sklearn.svm import SVC"
      ],
      "execution_count": null,
      "outputs": []
    },
    {
      "cell_type": "markdown",
      "metadata": {
        "id": "22lYwB_ZrqaW"
      },
      "source": [
        "  #### a. **Linear** : "
      ]
    },
    {
      "cell_type": "code",
      "metadata": {
        "colab": {
          "base_uri": "https://localhost:8080/"
        },
        "id": "CGSNseTUP9-Z",
        "outputId": "01d9d554-35c1-448c-b9ef-a0666c7cc721"
      },
      "source": [
        "clf_svc = SVC(kernel='linear', decision_function_shape='ovr', random_state=0)\n",
        "clf_svc.fit(X_train, y_train)"
      ],
      "execution_count": null,
      "outputs": [
        {
          "output_type": "execute_result",
          "data": {
            "text/plain": [
              "SVC(C=1.0, break_ties=False, cache_size=200, class_weight=None, coef0=0.0,\n",
              "    decision_function_shape='ovr', degree=3, gamma='scale', kernel='linear',\n",
              "    max_iter=-1, probability=False, random_state=0, shrinking=True, tol=0.001,\n",
              "    verbose=False)"
            ]
          },
          "metadata": {},
          "execution_count": 114
        }
      ]
    },
    {
      "cell_type": "code",
      "metadata": {
        "id": "i9g_yBDgrWwE"
      },
      "source": [
        "y_pred_svc = clf_svc.predict(X_test)"
      ],
      "execution_count": null,
      "outputs": []
    },
    {
      "cell_type": "markdown",
      "metadata": {
        "id": "kuD8HcNMP9hQ"
      },
      "source": [
        "  #### b. **Kernel SVM**\n"
      ]
    },
    {
      "cell_type": "code",
      "metadata": {
        "colab": {
          "base_uri": "https://localhost:8080/"
        },
        "id": "X1k3pu20P-d1",
        "outputId": "f24de2c6-e248-461b-ba54-a36c4ad35295"
      },
      "source": [
        "clf_kernelSVC = SVC(kernel='rbf', random_state=0)\n",
        "clf_kernelSVC.fit(X_train, y_train)"
      ],
      "execution_count": null,
      "outputs": [
        {
          "output_type": "execute_result",
          "data": {
            "text/plain": [
              "SVC(C=1.0, break_ties=False, cache_size=200, class_weight=None, coef0=0.0,\n",
              "    decision_function_shape='ovr', degree=3, gamma='scale', kernel='rbf',\n",
              "    max_iter=-1, probability=False, random_state=0, shrinking=True, tol=0.001,\n",
              "    verbose=False)"
            ]
          },
          "metadata": {},
          "execution_count": 116
        }
      ]
    },
    {
      "cell_type": "code",
      "metadata": {
        "id": "PhiuaNcTrkSC"
      },
      "source": [
        "y_pred_kernelSVC = clf_kernelSVC.predict(X_test)"
      ],
      "execution_count": null,
      "outputs": []
    },
    {
      "cell_type": "markdown",
      "metadata": {
        "id": "5WG7CjJ7QEia"
      },
      "source": [
        "### 4. **Naïve Bayes**\n"
      ]
    },
    {
      "cell_type": "code",
      "metadata": {
        "id": "lrmSi7qwRcy4"
      },
      "source": [
        "from sklearn.naive_bayes import GaussianNB, BernoulliNB, MultinomialNB"
      ],
      "execution_count": null,
      "outputs": []
    },
    {
      "cell_type": "markdown",
      "metadata": {
        "id": "cglRg4TYQlnQ"
      },
      "source": [
        "  #### 4.1 **Gaussian Naïve Bayes**\n",
        "  - This function creates a gaussian naive bayes classifier. Once the model is fit into training data, then it is used for testing purposes i.e. predictions are made on the input of testing data and analysis of the result is carried out."
      ]
    },
    {
      "cell_type": "code",
      "metadata": {
        "colab": {
          "base_uri": "https://localhost:8080/"
        },
        "id": "cpur9e5UQEy2",
        "outputId": "46349220-32db-49bc-cbac-7d23b8d2773f"
      },
      "source": [
        "clf_nbGB = GaussianNB()\n",
        "clf_nbGB.fit(X_train, y_train)"
      ],
      "execution_count": null,
      "outputs": [
        {
          "output_type": "execute_result",
          "data": {
            "text/plain": [
              "GaussianNB(priors=None, var_smoothing=1e-09)"
            ]
          },
          "metadata": {},
          "execution_count": 119
        }
      ]
    },
    {
      "cell_type": "code",
      "metadata": {
        "id": "7YpqekxNsEu4"
      },
      "source": [
        "y_pred_nbGB = clf_nbGB.predict(X_test)"
      ],
      "execution_count": null,
      "outputs": []
    },
    {
      "cell_type": "markdown",
      "metadata": {
        "id": "icJuNJgPQm_Y"
      },
      "source": [
        "  #### 4.2 **Bernoulli Naïve Bayes**\n",
        "  - This function creates a bernoulli naive bayes classifier. Once the model is fit into training data, then it is used for testing purposes i.e. predictions are made on the input of testing data and analysis of the result is carried out."
      ]
    },
    {
      "cell_type": "code",
      "metadata": {
        "colab": {
          "base_uri": "https://localhost:8080/"
        },
        "id": "5E7B5OUGsKfK",
        "outputId": "e4c89f8a-338c-4517-f324-b1d7ef50c51c"
      },
      "source": [
        "clf_nbBNB = BernoulliNB()\n",
        "clf_nbBNB.fit(X_train, y_train)"
      ],
      "execution_count": null,
      "outputs": [
        {
          "output_type": "execute_result",
          "data": {
            "text/plain": [
              "BernoulliNB(alpha=1.0, binarize=0.0, class_prior=None, fit_prior=True)"
            ]
          },
          "metadata": {},
          "execution_count": 121
        }
      ]
    },
    {
      "cell_type": "code",
      "metadata": {
        "id": "i4C1hOrtsKfL"
      },
      "source": [
        "y_pred_nbBNB = clf_nbBNB.predict(X_test)"
      ],
      "execution_count": null,
      "outputs": []
    },
    {
      "cell_type": "markdown",
      "metadata": {
        "id": "yuBcynbTQnly"
      },
      "source": [
        "  #### 4.3 **Multinomial Naïve Bayes**\n",
        "  - This section creates a multinomial naive bayes classifier. Once the model is fit into training data, then it is used for testing purposes i.e. predictions are made on the input of testing data and analysis of the result is carried out.\n",
        "\n",
        "  - Here one another interesting thing to be noticed is that inputs of training and testing data are passed explicitly unlike others. The reason behind it is that multinomial naive bayes model cannot work with negative values. And as we get negative values after standard scaling, we can't pass the training and testing data stored in global variables. Instead we will treat the data with min max scaling so that it is positive and then we will pass it to multinomial naive bayes classifier."
      ]
    },
    {
      "cell_type": "code",
      "metadata": {
        "colab": {
          "base_uri": "https://localhost:8080/"
        },
        "id": "GXwAr2yAsLgy",
        "outputId": "bd5a4555-3b88-4ecb-a887-4dd28bc0685a"
      },
      "source": [
        "clf_nbMNB = MultinomialNB()\n",
        "clf_nbMNB.fit(X_train_mm, y_train)"
      ],
      "execution_count": null,
      "outputs": [
        {
          "output_type": "execute_result",
          "data": {
            "text/plain": [
              "MultinomialNB(alpha=1.0, class_prior=None, fit_prior=True)"
            ]
          },
          "metadata": {},
          "execution_count": 123
        }
      ]
    },
    {
      "cell_type": "code",
      "metadata": {
        "id": "rU326aCusLgy"
      },
      "source": [
        "y_pred_nbMNB = clf_nbMNB.predict(X_test)"
      ],
      "execution_count": null,
      "outputs": []
    },
    {
      "cell_type": "markdown",
      "metadata": {
        "id": "kMotVTmDQJ1P"
      },
      "source": [
        "### 5. **Decision Tree**\n",
        "- This section creates a decision tree classifier and choose the best parameters for our classifier with the help of GridSearchCV. Then the fine tuned classifier i.e. clf_gs is used for the training of our data. Once the model is fit into training data, then it is used for testing purposes i.e. predictions are made on the input of testing data and analysis of the result is carried out.\n",
        "\n",
        "- In decision tree, taking a step further, decision trees itself are visualised to get a clear picture of the classification.\n"
      ]
    },
    {
      "cell_type": "code",
      "metadata": {
        "id": "5I95dIRTQKIT"
      },
      "source": [
        "from sklearn.tree import DecisionTreeClassifier"
      ],
      "execution_count": null,
      "outputs": []
    },
    {
      "cell_type": "markdown",
      "metadata": {
        "id": "CdSVPO8enL8Y"
      },
      "source": [
        "- with Gini :"
      ]
    },
    {
      "cell_type": "code",
      "metadata": {
        "colab": {
          "base_uri": "https://localhost:8080/"
        },
        "id": "uAsTgKmknLhX",
        "outputId": "0a182d64-a3b9-4af6-bc3d-1fe826279505"
      },
      "source": [
        "clf_dtGINI = DecisionTreeClassifier(criterion='gini',  random_state=0)\n",
        "clf_dtGINI.fit(X_train, y_train)"
      ],
      "execution_count": null,
      "outputs": [
        {
          "output_type": "execute_result",
          "data": {
            "text/plain": [
              "DecisionTreeClassifier(ccp_alpha=0.0, class_weight=None, criterion='gini',\n",
              "                       max_depth=None, max_features=None, max_leaf_nodes=None,\n",
              "                       min_impurity_decrease=0.0, min_impurity_split=None,\n",
              "                       min_samples_leaf=1, min_samples_split=2,\n",
              "                       min_weight_fraction_leaf=0.0, presort='deprecated',\n",
              "                       random_state=0, splitter='best')"
            ]
          },
          "metadata": {},
          "execution_count": 126
        }
      ]
    },
    {
      "cell_type": "code",
      "metadata": {
        "id": "Rg-9FHEYnX3z"
      },
      "source": [
        "y_pred_dtGINI = clf_dtGINI.predict(X_test)"
      ],
      "execution_count": null,
      "outputs": []
    },
    {
      "cell_type": "markdown",
      "metadata": {
        "id": "WS120zBgnNWV"
      },
      "source": [
        "- with Entropy : "
      ]
    },
    {
      "cell_type": "code",
      "metadata": {
        "colab": {
          "base_uri": "https://localhost:8080/"
        },
        "id": "seefWSfQnRDN",
        "outputId": "41fbb4b2-7bec-4091-eceb-3ad35dfce7fe"
      },
      "source": [
        "clf_dtENTROPY = DecisionTreeClassifier(criterion='entropy',  random_state=0)\n",
        "clf_dtENTROPY.fit(X_train, y_train)"
      ],
      "execution_count": null,
      "outputs": [
        {
          "output_type": "execute_result",
          "data": {
            "text/plain": [
              "DecisionTreeClassifier(ccp_alpha=0.0, class_weight=None, criterion='entropy',\n",
              "                       max_depth=None, max_features=None, max_leaf_nodes=None,\n",
              "                       min_impurity_decrease=0.0, min_impurity_split=None,\n",
              "                       min_samples_leaf=1, min_samples_split=2,\n",
              "                       min_weight_fraction_leaf=0.0, presort='deprecated',\n",
              "                       random_state=0, splitter='best')"
            ]
          },
          "metadata": {},
          "execution_count": 128
        }
      ]
    },
    {
      "cell_type": "code",
      "metadata": {
        "id": "mtMXqvM5nZQZ"
      },
      "source": [
        "y_pred_dtENTROPY = clf_dtENTROPY.predict(X_test)"
      ],
      "execution_count": null,
      "outputs": []
    },
    {
      "cell_type": "markdown",
      "metadata": {
        "id": "iX8wNG6VnRhR"
      },
      "source": [
        "- with Grid Search : "
      ]
    },
    {
      "cell_type": "code",
      "metadata": {
        "colab": {
          "base_uri": "https://localhost:8080/"
        },
        "id": "FvmTGuJnnFHS",
        "outputId": "97637173-5ed3-4b0d-bfaf-2561e3c90c5c"
      },
      "source": [
        "from sklearn.model_selection import GridSearchCV\n",
        "\n",
        "hyperparams = {\n",
        "                'max_depth' : np.linspace(5, 100,num=20).tolist(),    # before : [1, 5, 10, 25, 50, 100]; after : [5.0, 10.0, 15.0, 20.0, 25.0, 30.0, 35.0, 40.0, 45.0, 50.0, 55.0, 60.0, 65.0, 70.0, 75.0, 80.0, 85.0, 90.0, 95.0, 100.0];\n",
        "                'criterion': ['gini', 'entropy'],\n",
        "              }\n",
        "gs_dt = GridSearchCV(estimator=DecisionTreeClassifier(), \n",
        "                           param_grid=hyperparams,\n",
        "                           scoring='accuracy',  \n",
        "                           cv=10,\n",
        "                           )\n",
        "gs_dt.fit(X_train, y_train)"
      ],
      "execution_count": null,
      "outputs": [
        {
          "output_type": "execute_result",
          "data": {
            "text/plain": [
              "GridSearchCV(cv=10, error_score=nan,\n",
              "             estimator=DecisionTreeClassifier(ccp_alpha=0.0, class_weight=None,\n",
              "                                              criterion='gini', max_depth=None,\n",
              "                                              max_features=None,\n",
              "                                              max_leaf_nodes=None,\n",
              "                                              min_impurity_decrease=0.0,\n",
              "                                              min_impurity_split=None,\n",
              "                                              min_samples_leaf=1,\n",
              "                                              min_samples_split=2,\n",
              "                                              min_weight_fraction_leaf=0.0,\n",
              "                                              presort='deprecated',\n",
              "                                              random_state=None,\n",
              "                                              splitter='best'),\n",
              "             iid='deprecated', n_jobs=None,\n",
              "             param_grid={'criterion': ['gini', 'entropy'],\n",
              "                         'max_depth': [5.0, 10.0, 15.0, 20.0, 25.0, 30.0, 35.0,\n",
              "                                       40.0, 45.0, 50.0, 55.0, 60.0, 65.0, 70.0,\n",
              "                                       75.0, 80.0, 85.0, 90.0, 95.0, 100.0]},\n",
              "             pre_dispatch='2*n_jobs', refit=True, return_train_score=False,\n",
              "             scoring='accuracy', verbose=0)"
            ]
          },
          "metadata": {},
          "execution_count": 130
        }
      ]
    },
    {
      "cell_type": "markdown",
      "metadata": {
        "id": "KuetivVzVSmp"
      },
      "source": [
        "- Printing The best Accuracy achieved through various combinations :"
      ]
    },
    {
      "cell_type": "code",
      "metadata": {
        "colab": {
          "base_uri": "https://localhost:8080/"
        },
        "id": "p1lcKOGzVG9n",
        "outputId": "71de33da-cc3e-4e45-c85b-3574f4f52d56"
      },
      "source": [
        "print(f\"Best Accuracy achieved : {gs_dt.best_score_*100:.2f}%\")"
      ],
      "execution_count": null,
      "outputs": [
        {
          "output_type": "stream",
          "name": "stdout",
          "text": [
            "Best Accuracy achieved : 98.34%\n"
          ]
        }
      ]
    },
    {
      "cell_type": "markdown",
      "metadata": {
        "id": "tqcdzJP4VVIt"
      },
      "source": [
        "- Priting the best parameters through which highest accuracy is achieved :"
      ]
    },
    {
      "cell_type": "code",
      "metadata": {
        "colab": {
          "base_uri": "https://localhost:8080/"
        },
        "id": "Hvy3AyUQVNnz",
        "outputId": "691991c6-2376-43db-f8aa-819e2b8738b9"
      },
      "source": [
        "print(f\"Best parameters achieved : {gs_dt.best_params_}\")\n",
        "criteria, depth = gs_dt.best_params_['criterion'], gs_dt.best_params_['max_depth']"
      ],
      "execution_count": null,
      "outputs": [
        {
          "output_type": "stream",
          "name": "stdout",
          "text": [
            "Best parameters achieved : {'criterion': 'entropy', 'max_depth': 15.0}\n"
          ]
        }
      ]
    },
    {
      "cell_type": "code",
      "metadata": {
        "id": "YjwyI8fMnfgK"
      },
      "source": [
        "clf_dt = DecisionTreeClassifier(criterion=criteria, max_depth=depth)\n",
        "clf_dt.fit(X_train, y_train)\n",
        "y_pred_dtGS = clf_dt.predict(X_test)"
      ],
      "execution_count": null,
      "outputs": []
    },
    {
      "cell_type": "markdown",
      "metadata": {
        "id": "K5YKHU-6sr8d"
      },
      "source": [
        "- Visualisation : \n",
        "  - This section helps in visualising the decision tree by taking the respective classifier as input."
      ]
    },
    {
      "cell_type": "code",
      "metadata": {
        "colab": {
          "base_uri": "https://localhost:8080/",
          "height": 1000
        },
        "id": "wEPpF82Osunc",
        "outputId": "3d591f64-9042-4d60-b421-166620e6a0a0"
      },
      "source": [
        "from sklearn import tree\n",
        "\n",
        "fig = plt.figure(figsize=(25,20))\n",
        "tree.plot_tree(clf_dt, feature_names=list(dataset.iloc[:,:-1].columns), class_names=['Unacc','Acc','Good','Vgood'], filled=True)"
      ],
      "execution_count": null,
      "outputs": [
        {
          "output_type": "execute_result",
          "data": {
            "text/plain": [
              "[Text(845.848880597015, 1041.9, 'Safety <= -0.602\\nentropy = 1.203\\nsamples = 1382\\nvalue = [970, 305, 52, 55]\\nclass = Unacc'),\n",
              " Text(825.0279850746268, 951.3000000000001, 'entropy = 0.0\\nsamples = 470\\nvalue = [470, 0, 0, 0]\\nclass = Unacc'),\n",
              " Text(866.669776119403, 951.3000000000001, 'Persons <= -0.529\\nentropy = 1.484\\nsamples = 912\\nvalue = [500, 305, 52, 55]\\nclass = Unacc'),\n",
              " Text(845.848880597015, 860.7, 'entropy = 0.0\\nsamples = 308\\nvalue = [308, 0, 0, 0]\\nclass = Unacc'),\n",
              " Text(887.4906716417911, 860.7, 'Buying <= -0.005\\nentropy = 1.643\\nsamples = 604\\nvalue = [192, 305, 52, 55]\\nclass = Acc'),\n",
              " Text(567.3694029850747, 770.1, 'Maintenance <= 0.023\\nentropy = 1.737\\nsamples = 297\\nvalue = [34, 156, 52, 55]\\nclass = Acc'),\n",
              " Text(281.0820895522388, 679.5, 'Safety <= 0.615\\nentropy = 1.796\\nsamples = 153\\nvalue = [8, 48, 52, 45]\\nclass = Good'),\n",
              " Text(114.51492537313433, 588.9, 'Lug_Boot <= -0.612\\nentropy = 1.235\\nsamples = 74\\nvalue = [4, 40, 30, 0]\\nclass = Acc'),\n",
              " Text(62.462686567164184, 498.29999999999995, 'Doors <= -0.907\\nentropy = 0.567\\nsamples = 30\\nvalue = [4, 26, 0, 0]\\nclass = Acc'),\n",
              " Text(41.64179104477612, 407.69999999999993, 'Persons <= 0.67\\nentropy = 1.0\\nsamples = 8\\nvalue = [4, 4, 0, 0]\\nclass = Unacc'),\n",
              " Text(20.82089552238806, 317.1, 'entropy = 0.0\\nsamples = 4\\nvalue = [0, 4, 0, 0]\\nclass = Acc'),\n",
              " Text(62.462686567164184, 317.1, 'entropy = 0.0\\nsamples = 4\\nvalue = [4, 0, 0, 0]\\nclass = Unacc'),\n",
              " Text(83.28358208955224, 407.69999999999993, 'entropy = 0.0\\nsamples = 22\\nvalue = [0, 22, 0, 0]\\nclass = Acc'),\n",
              " Text(166.56716417910448, 498.29999999999995, 'Buying <= -0.898\\nentropy = 0.902\\nsamples = 44\\nvalue = [0, 14, 30, 0]\\nclass = Good'),\n",
              " Text(124.92537313432837, 407.69999999999993, 'Persons <= 0.67\\nentropy = 0.559\\nsamples = 23\\nvalue = [0, 3, 20, 0]\\nclass = Good'),\n",
              " Text(104.1044776119403, 317.1, 'Doors <= -0.013\\nentropy = 0.845\\nsamples = 11\\nvalue = [0, 3, 8, 0]\\nclass = Good'),\n",
              " Text(83.28358208955224, 226.5, 'Lug_Boot <= 0.616\\nentropy = 1.0\\nsamples = 6\\nvalue = [0, 3, 3, 0]\\nclass = Acc'),\n",
              " Text(62.462686567164184, 135.89999999999998, 'entropy = 0.0\\nsamples = 3\\nvalue = [0, 3, 0, 0]\\nclass = Acc'),\n",
              " Text(104.1044776119403, 135.89999999999998, 'entropy = 0.0\\nsamples = 3\\nvalue = [0, 0, 3, 0]\\nclass = Good'),\n",
              " Text(124.92537313432837, 226.5, 'entropy = 0.0\\nsamples = 5\\nvalue = [0, 0, 5, 0]\\nclass = Good'),\n",
              " Text(145.7462686567164, 317.1, 'entropy = 0.0\\nsamples = 12\\nvalue = [0, 0, 12, 0]\\nclass = Good'),\n",
              " Text(208.2089552238806, 407.69999999999993, 'Maintenance <= -0.871\\nentropy = 0.998\\nsamples = 21\\nvalue = [0, 11, 10, 0]\\nclass = Acc'),\n",
              " Text(187.38805970149255, 317.1, 'Doors <= -0.907\\nentropy = 0.65\\nsamples = 12\\nvalue = [0, 2, 10, 0]\\nclass = Good'),\n",
              " Text(166.56716417910448, 226.5, 'Lug_Boot <= 0.616\\nentropy = 0.918\\nsamples = 3\\nvalue = [0, 2, 1, 0]\\nclass = Acc'),\n",
              " Text(145.7462686567164, 135.89999999999998, 'entropy = 0.0\\nsamples = 2\\nvalue = [0, 2, 0, 0]\\nclass = Acc'),\n",
              " Text(187.38805970149255, 135.89999999999998, 'entropy = 0.0\\nsamples = 1\\nvalue = [0, 0, 1, 0]\\nclass = Good'),\n",
              " Text(208.2089552238806, 226.5, 'entropy = 0.0\\nsamples = 9\\nvalue = [0, 0, 9, 0]\\nclass = Good'),\n",
              " Text(229.02985074626866, 317.1, 'entropy = 0.0\\nsamples = 9\\nvalue = [0, 9, 0, 0]\\nclass = Acc'),\n",
              " Text(447.64925373134326, 588.9, 'Lug_Boot <= -0.612\\nentropy = 1.529\\nsamples = 79\\nvalue = [4, 8, 22, 45]\\nclass = Vgood'),\n",
              " Text(333.13432835820896, 498.29999999999995, 'Doors <= -0.907\\nentropy = 1.311\\nsamples = 27\\nvalue = [4, 6, 17, 0]\\nclass = Good'),\n",
              " Text(291.4925373134328, 407.69999999999993, 'Persons <= 0.67\\nentropy = 1.406\\nsamples = 8\\nvalue = [4, 1, 3, 0]\\nclass = Unacc'),\n",
              " Text(270.6716417910448, 317.1, 'Buying <= -0.898\\nentropy = 0.811\\nsamples = 4\\nvalue = [0, 1, 3, 0]\\nclass = Good'),\n",
              " Text(249.85074626865674, 226.5, 'entropy = 0.0\\nsamples = 2\\nvalue = [0, 0, 2, 0]\\nclass = Good'),\n",
              " Text(291.4925373134328, 226.5, 'Maintenance <= -0.871\\nentropy = 1.0\\nsamples = 2\\nvalue = [0, 1, 1, 0]\\nclass = Acc'),\n",
              " Text(270.6716417910448, 135.89999999999998, 'entropy = 0.0\\nsamples = 1\\nvalue = [0, 0, 1, 0]\\nclass = Good'),\n",
              " Text(312.3134328358209, 135.89999999999998, 'entropy = 0.0\\nsamples = 1\\nvalue = [0, 1, 0, 0]\\nclass = Acc'),\n",
              " Text(312.3134328358209, 317.1, 'entropy = 0.0\\nsamples = 4\\nvalue = [4, 0, 0, 0]\\nclass = Unacc'),\n",
              " Text(374.7761194029851, 407.69999999999993, 'Maintenance <= -0.871\\nentropy = 0.831\\nsamples = 19\\nvalue = [0, 5, 14, 0]\\nclass = Good'),\n",
              " Text(353.95522388059703, 317.1, 'entropy = 0.0\\nsamples = 9\\nvalue = [0, 0, 9, 0]\\nclass = Good'),\n",
              " Text(395.5970149253731, 317.1, 'Buying <= -0.898\\nentropy = 1.0\\nsamples = 10\\nvalue = [0, 5, 5, 0]\\nclass = Acc'),\n",
              " Text(374.7761194029851, 226.5, 'entropy = 0.0\\nsamples = 5\\nvalue = [0, 0, 5, 0]\\nclass = Good'),\n",
              " Text(416.4179104477612, 226.5, 'entropy = 0.0\\nsamples = 5\\nvalue = [0, 5, 0, 0]\\nclass = Acc'),\n",
              " Text(562.1641791044776, 498.29999999999995, 'Lug_Boot <= 0.616\\nentropy = 0.686\\nsamples = 52\\nvalue = [0, 2, 5, 45]\\nclass = Vgood'),\n",
              " Text(541.3432835820896, 407.69999999999993, 'Doors <= -0.907\\nentropy = 1.123\\nsamples = 24\\nvalue = [0, 2, 5, 17]\\nclass = Vgood'),\n",
              " Text(478.8805970149254, 317.1, 'Buying <= -0.898\\nentropy = 0.971\\nsamples = 5\\nvalue = [0, 2, 3, 0]\\nclass = Good'),\n",
              " Text(458.05970149253733, 226.5, 'entropy = 0.0\\nsamples = 2\\nvalue = [0, 0, 2, 0]\\nclass = Good'),\n",
              " Text(499.70149253731347, 226.5, 'Maintenance <= -0.871\\nentropy = 0.918\\nsamples = 3\\nvalue = [0, 2, 1, 0]\\nclass = Acc'),\n",
              " Text(478.8805970149254, 135.89999999999998, 'entropy = 0.0\\nsamples = 1\\nvalue = [0, 0, 1, 0]\\nclass = Good'),\n",
              " Text(520.5223880597015, 135.89999999999998, 'entropy = 0.0\\nsamples = 2\\nvalue = [0, 2, 0, 0]\\nclass = Acc'),\n",
              " Text(603.8059701492538, 317.1, 'Doors <= -0.013\\nentropy = 0.485\\nsamples = 19\\nvalue = [0, 0, 2, 17]\\nclass = Vgood'),\n",
              " Text(582.9850746268656, 226.5, 'Persons <= 0.67\\nentropy = 0.918\\nsamples = 6\\nvalue = [0, 0, 2, 4]\\nclass = Vgood'),\n",
              " Text(562.1641791044776, 135.89999999999998, 'entropy = 0.0\\nsamples = 2\\nvalue = [0, 0, 2, 0]\\nclass = Good'),\n",
              " Text(603.8059701492538, 135.89999999999998, 'entropy = 0.0\\nsamples = 4\\nvalue = [0, 0, 0, 4]\\nclass = Vgood'),\n",
              " Text(624.6268656716418, 226.5, 'entropy = 0.0\\nsamples = 13\\nvalue = [0, 0, 0, 13]\\nclass = Vgood'),\n",
              " Text(582.9850746268656, 407.69999999999993, 'entropy = 0.0\\nsamples = 28\\nvalue = [0, 0, 0, 28]\\nclass = Vgood'),\n",
              " Text(853.6567164179105, 679.5, 'Lug_Boot <= -0.612\\nentropy = 1.024\\nsamples = 144\\nvalue = [26, 108, 0, 10]\\nclass = Acc'),\n",
              " Text(770.3731343283582, 588.9, 'Safety <= 0.615\\nentropy = 0.999\\nsamples = 46\\nvalue = [22, 24, 0, 0]\\nclass = Acc'),\n",
              " Text(728.7313432835821, 498.29999999999995, 'Buying <= -0.898\\nentropy = 0.738\\nsamples = 24\\nvalue = [19, 5, 0, 0]\\nclass = Unacc'),\n",
              " Text(707.9104477611941, 407.69999999999993, 'Maintenance <= 0.917\\nentropy = 1.0\\nsamples = 10\\nvalue = [5, 5, 0, 0]\\nclass = Unacc'),\n",
              " Text(687.0895522388059, 317.1, 'Persons <= 0.67\\nentropy = 0.65\\nsamples = 6\\nvalue = [1, 5, 0, 0]\\nclass = Acc'),\n",
              " Text(666.2686567164179, 226.5, 'entropy = 0.0\\nsamples = 4\\nvalue = [0, 4, 0, 0]\\nclass = Acc'),\n",
              " Text(707.9104477611941, 226.5, 'Doors <= -0.013\\nentropy = 1.0\\nsamples = 2\\nvalue = [1, 1, 0, 0]\\nclass = Unacc'),\n",
              " Text(687.0895522388059, 135.89999999999998, 'entropy = 0.0\\nsamples = 1\\nvalue = [1, 0, 0, 0]\\nclass = Unacc'),\n",
              " Text(728.7313432835821, 135.89999999999998, 'entropy = 0.0\\nsamples = 1\\nvalue = [0, 1, 0, 0]\\nclass = Acc'),\n",
              " Text(728.7313432835821, 317.1, 'entropy = 0.0\\nsamples = 4\\nvalue = [4, 0, 0, 0]\\nclass = Unacc'),\n",
              " Text(749.5522388059702, 407.69999999999993, 'entropy = 0.0\\nsamples = 14\\nvalue = [14, 0, 0, 0]\\nclass = Unacc'),\n",
              " Text(812.0149253731344, 498.29999999999995, 'Doors <= -0.907\\nentropy = 0.575\\nsamples = 22\\nvalue = [3, 19, 0, 0]\\nclass = Acc'),\n",
              " Text(791.1940298507462, 407.69999999999993, 'Persons <= 0.67\\nentropy = 1.0\\nsamples = 6\\nvalue = [3, 3, 0, 0]\\nclass = Unacc'),\n",
              " Text(770.3731343283582, 317.1, 'entropy = 0.0\\nsamples = 3\\nvalue = [0, 3, 0, 0]\\nclass = Acc'),\n",
              " Text(812.0149253731344, 317.1, 'entropy = 0.0\\nsamples = 3\\nvalue = [3, 0, 0, 0]\\nclass = Unacc'),\n",
              " Text(832.8358208955224, 407.69999999999993, 'entropy = 0.0\\nsamples = 16\\nvalue = [0, 16, 0, 0]\\nclass = Acc'),\n",
              " Text(936.9402985074627, 588.9, 'Safety <= 0.615\\nentropy = 0.715\\nsamples = 98\\nvalue = [4, 84, 0, 10]\\nclass = Acc'),\n",
              " Text(895.2985074626865, 498.29999999999995, 'Doors <= -0.013\\nentropy = 0.408\\nsamples = 49\\nvalue = [4, 45, 0, 0]\\nclass = Acc'),\n",
              " Text(874.4776119402985, 407.69999999999993, 'Lug_Boot <= 0.616\\nentropy = 0.684\\nsamples = 22\\nvalue = [4, 18, 0, 0]\\nclass = Acc'),\n",
              " Text(853.6567164179105, 317.1, 'Buying <= -0.898\\nentropy = 0.991\\nsamples = 9\\nvalue = [4, 5, 0, 0]\\nclass = Acc'),\n",
              " Text(832.8358208955224, 226.5, 'Maintenance <= 0.917\\nentropy = 0.65\\nsamples = 6\\nvalue = [1, 5, 0, 0]\\nclass = Acc'),\n",
              " Text(812.0149253731344, 135.89999999999998, 'entropy = 0.0\\nsamples = 4\\nvalue = [0, 4, 0, 0]\\nclass = Acc'),\n",
              " Text(853.6567164179105, 135.89999999999998, 'Persons <= 0.67\\nentropy = 1.0\\nsamples = 2\\nvalue = [1, 1, 0, 0]\\nclass = Unacc'),\n",
              " Text(832.8358208955224, 45.299999999999955, 'entropy = 0.0\\nsamples = 1\\nvalue = [1, 0, 0, 0]\\nclass = Unacc'),\n",
              " Text(874.4776119402985, 45.299999999999955, 'entropy = 0.0\\nsamples = 1\\nvalue = [0, 1, 0, 0]\\nclass = Acc'),\n",
              " Text(874.4776119402985, 226.5, 'entropy = 0.0\\nsamples = 3\\nvalue = [3, 0, 0, 0]\\nclass = Unacc'),\n",
              " Text(895.2985074626865, 317.1, 'entropy = 0.0\\nsamples = 13\\nvalue = [0, 13, 0, 0]\\nclass = Acc'),\n",
              " Text(916.1194029850747, 407.69999999999993, 'entropy = 0.0\\nsamples = 27\\nvalue = [0, 27, 0, 0]\\nclass = Acc'),\n",
              " Text(978.5820895522388, 498.29999999999995, 'Buying <= -0.898\\nentropy = 0.73\\nsamples = 49\\nvalue = [0, 39, 0, 10]\\nclass = Acc'),\n",
              " Text(957.7611940298508, 407.69999999999993, 'Maintenance <= 0.917\\nentropy = 0.98\\nsamples = 24\\nvalue = [0, 14, 0, 10]\\nclass = Acc'),\n",
              " Text(936.9402985074627, 317.1, 'Lug_Boot <= 0.616\\nentropy = 0.779\\nsamples = 13\\nvalue = [0, 3, 0, 10]\\nclass = Vgood'),\n",
              " Text(916.1194029850747, 226.5, 'Doors <= -0.013\\nentropy = 1.0\\nsamples = 6\\nvalue = [0, 3, 0, 3]\\nclass = Acc'),\n",
              " Text(895.2985074626865, 135.89999999999998, 'entropy = 0.0\\nsamples = 3\\nvalue = [0, 3, 0, 0]\\nclass = Acc'),\n",
              " Text(936.9402985074627, 135.89999999999998, 'entropy = 0.0\\nsamples = 3\\nvalue = [0, 0, 0, 3]\\nclass = Vgood'),\n",
              " Text(957.7611940298508, 226.5, 'entropy = 0.0\\nsamples = 7\\nvalue = [0, 0, 0, 7]\\nclass = Vgood'),\n",
              " Text(978.5820895522388, 317.1, 'entropy = 0.0\\nsamples = 11\\nvalue = [0, 11, 0, 0]\\nclass = Acc'),\n",
              " Text(999.4029850746269, 407.69999999999993, 'entropy = 0.0\\nsamples = 25\\nvalue = [0, 25, 0, 0]\\nclass = Acc'),\n",
              " Text(1207.6119402985075, 770.1, 'Maintenance <= 0.917\\nentropy = 0.999\\nsamples = 307\\nvalue = [158, 149, 0, 0]\\nclass = Unacc'),\n",
              " Text(1186.7910447761194, 679.5, 'Lug_Boot <= -0.612\\nentropy = 0.95\\nsamples = 236\\nvalue = [87, 149, 0, 0]\\nclass = Acc'),\n",
              " Text(1061.865671641791, 588.9, 'Safety <= 0.615\\nentropy = 0.923\\nsamples = 77\\nvalue = [51, 26, 0, 0]\\nclass = Unacc'),\n",
              " Text(1041.044776119403, 498.29999999999995, 'entropy = 0.0\\nsamples = 39\\nvalue = [39, 0, 0, 0]\\nclass = Unacc'),\n",
              " Text(1082.6865671641792, 498.29999999999995, 'Doors <= -0.907\\nentropy = 0.9\\nsamples = 38\\nvalue = [12, 26, 0, 0]\\nclass = Acc'),\n",
              " Text(1041.044776119403, 407.69999999999993, 'Persons <= 0.67\\nentropy = 0.946\\nsamples = 11\\nvalue = [7, 4, 0, 0]\\nclass = Unacc'),\n",
              " Text(1020.223880597015, 317.1, 'Maintenance <= 0.023\\nentropy = 0.722\\nsamples = 5\\nvalue = [1, 4, 0, 0]\\nclass = Acc'),\n",
              " Text(999.4029850746269, 226.5, 'entropy = 0.0\\nsamples = 3\\nvalue = [0, 3, 0, 0]\\nclass = Acc'),\n",
              " Text(1041.044776119403, 226.5, 'Buying <= 0.889\\nentropy = 1.0\\nsamples = 2\\nvalue = [1, 1, 0, 0]\\nclass = Unacc'),\n",
              " Text(1020.223880597015, 135.89999999999998, 'entropy = 0.0\\nsamples = 1\\nvalue = [0, 1, 0, 0]\\nclass = Acc'),\n",
              " Text(1061.865671641791, 135.89999999999998, 'entropy = 0.0\\nsamples = 1\\nvalue = [1, 0, 0, 0]\\nclass = Unacc'),\n",
              " Text(1061.865671641791, 317.1, 'entropy = 0.0\\nsamples = 6\\nvalue = [6, 0, 0, 0]\\nclass = Unacc'),\n",
              " Text(1124.3283582089553, 407.69999999999993, 'Maintenance <= 0.023\\nentropy = 0.691\\nsamples = 27\\nvalue = [5, 22, 0, 0]\\nclass = Acc'),\n",
              " Text(1103.5074626865671, 317.1, 'entropy = 0.0\\nsamples = 17\\nvalue = [0, 17, 0, 0]\\nclass = Acc'),\n",
              " Text(1145.1492537313434, 317.1, 'Buying <= 0.889\\nentropy = 1.0\\nsamples = 10\\nvalue = [5, 5, 0, 0]\\nclass = Unacc'),\n",
              " Text(1124.3283582089553, 226.5, 'entropy = 0.0\\nsamples = 5\\nvalue = [0, 5, 0, 0]\\nclass = Acc'),\n",
              " Text(1165.9701492537313, 226.5, 'entropy = 0.0\\nsamples = 5\\nvalue = [5, 0, 0, 0]\\nclass = Unacc'),\n",
              " Text(1311.7164179104477, 588.9, 'Maintenance <= 0.023\\nentropy = 0.772\\nsamples = 159\\nvalue = [36, 123, 0, 0]\\nclass = Acc'),\n",
              " Text(1270.0746268656717, 498.29999999999995, 'Doors <= -0.013\\nentropy = 0.437\\nsamples = 111\\nvalue = [10, 101, 0, 0]\\nclass = Acc'),\n",
              " Text(1249.2537313432836, 407.69999999999993, 'Safety <= 0.615\\nentropy = 0.691\\nsamples = 54\\nvalue = [10, 44, 0, 0]\\nclass = Acc'),\n",
              " Text(1228.4328358208954, 317.1, 'Lug_Boot <= 0.616\\nentropy = 0.94\\nsamples = 28\\nvalue = [10, 18, 0, 0]\\nclass = Acc'),\n",
              " Text(1207.6119402985075, 226.5, 'Persons <= 0.67\\nentropy = 0.863\\nsamples = 14\\nvalue = [10, 4, 0, 0]\\nclass = Unacc'),\n",
              " Text(1186.7910447761194, 135.89999999999998, 'entropy = 0.0\\nsamples = 7\\nvalue = [7, 0, 0, 0]\\nclass = Unacc'),\n",
              " Text(1228.4328358208954, 135.89999999999998, 'Doors <= -0.907\\nentropy = 0.985\\nsamples = 7\\nvalue = [3, 4, 0, 0]\\nclass = Acc'),\n",
              " Text(1207.6119402985075, 45.299999999999955, 'entropy = 0.0\\nsamples = 3\\nvalue = [3, 0, 0, 0]\\nclass = Unacc'),\n",
              " Text(1249.2537313432836, 45.299999999999955, 'entropy = 0.0\\nsamples = 4\\nvalue = [0, 4, 0, 0]\\nclass = Acc'),\n",
              " Text(1249.2537313432836, 226.5, 'entropy = 0.0\\nsamples = 14\\nvalue = [0, 14, 0, 0]\\nclass = Acc'),\n",
              " Text(1270.0746268656717, 317.1, 'entropy = 0.0\\nsamples = 26\\nvalue = [0, 26, 0, 0]\\nclass = Acc'),\n",
              " Text(1290.8955223880598, 407.69999999999993, 'entropy = 0.0\\nsamples = 57\\nvalue = [0, 57, 0, 0]\\nclass = Acc'),\n",
              " Text(1353.358208955224, 498.29999999999995, 'Buying <= 0.889\\nentropy = 0.995\\nsamples = 48\\nvalue = [26, 22, 0, 0]\\nclass = Unacc'),\n",
              " Text(1332.5373134328358, 407.69999999999993, 'Doors <= -0.013\\nentropy = 0.529\\nsamples = 25\\nvalue = [3, 22, 0, 0]\\nclass = Acc'),\n",
              " Text(1311.7164179104477, 317.1, 'Lug_Boot <= 0.616\\nentropy = 0.881\\nsamples = 10\\nvalue = [3, 7, 0, 0]\\nclass = Acc'),\n",
              " Text(1290.8955223880598, 226.5, 'Doors <= -0.907\\nentropy = 0.971\\nsamples = 5\\nvalue = [3, 2, 0, 0]\\nclass = Unacc'),\n",
              " Text(1270.0746268656717, 135.89999999999998, 'entropy = 0.0\\nsamples = 2\\nvalue = [2, 0, 0, 0]\\nclass = Unacc'),\n",
              " Text(1311.7164179104477, 135.89999999999998, 'Persons <= 0.67\\nentropy = 0.918\\nsamples = 3\\nvalue = [1, 2, 0, 0]\\nclass = Acc'),\n",
              " Text(1290.8955223880598, 45.299999999999955, 'entropy = 0.0\\nsamples = 1\\nvalue = [1, 0, 0, 0]\\nclass = Unacc'),\n",
              " Text(1332.5373134328358, 45.299999999999955, 'entropy = 0.0\\nsamples = 2\\nvalue = [0, 2, 0, 0]\\nclass = Acc'),\n",
              " Text(1332.5373134328358, 226.5, 'entropy = 0.0\\nsamples = 5\\nvalue = [0, 5, 0, 0]\\nclass = Acc'),\n",
              " Text(1353.358208955224, 317.1, 'entropy = 0.0\\nsamples = 15\\nvalue = [0, 15, 0, 0]\\nclass = Acc'),\n",
              " Text(1374.1791044776119, 407.69999999999993, 'entropy = 0.0\\nsamples = 23\\nvalue = [23, 0, 0, 0]\\nclass = Unacc'),\n",
              " Text(1228.4328358208954, 679.5, 'entropy = 0.0\\nsamples = 71\\nvalue = [71, 0, 0, 0]\\nclass = Unacc')]"
            ]
          },
          "metadata": {},
          "execution_count": 134
        },
        {
          "output_type": "display_data",
          "data": {
            "image/png": "[encoded data removed]",
            "text/plain": [
              "<Figure size 1800x1440 with 1 Axes>"
            ]
          },
          "metadata": {
            "needs_background": "light"
          }
        }
      ]
    },
    {
      "cell_type": "markdown",
      "metadata": {
        "id": "DjSL5PDLQQci"
      },
      "source": [
        "### 6. **Random Forest Classifier**\n"
      ]
    },
    {
      "cell_type": "code",
      "metadata": {
        "id": "xQVA0lUhQUZY"
      },
      "source": [
        "from sklearn.ensemble import RandomForestClassifier"
      ],
      "execution_count": null,
      "outputs": []
    },
    {
      "cell_type": "markdown",
      "metadata": {
        "id": "Yple-dZen59h"
      },
      "source": [
        "- with Gini"
      ]
    },
    {
      "cell_type": "code",
      "metadata": {
        "colab": {
          "base_uri": "https://localhost:8080/"
        },
        "id": "QJhW_adEnzYe",
        "outputId": "c6c98a97-fa17-4dc3-dd88-3b7066db9d5f"
      },
      "source": [
        "clf_rfcGINI = RandomForestClassifier(n_estimators = 10, criterion = 'gini', random_state = 0, n_jobs=-1)\n",
        "clf_rfcGINI.fit(X_train, y_train)"
      ],
      "execution_count": null,
      "outputs": [
        {
          "output_type": "execute_result",
          "data": {
            "text/plain": [
              "RandomForestClassifier(bootstrap=True, ccp_alpha=0.0, class_weight=None,\n",
              "                       criterion='gini', max_depth=None, max_features='auto',\n",
              "                       max_leaf_nodes=None, max_samples=None,\n",
              "                       min_impurity_decrease=0.0, min_impurity_split=None,\n",
              "                       min_samples_leaf=1, min_samples_split=2,\n",
              "                       min_weight_fraction_leaf=0.0, n_estimators=10, n_jobs=-1,\n",
              "                       oob_score=False, random_state=0, verbose=0,\n",
              "                       warm_start=False)"
            ]
          },
          "metadata": {},
          "execution_count": 136
        }
      ]
    },
    {
      "cell_type": "code",
      "metadata": {
        "id": "qjtuDcLNn15M"
      },
      "source": [
        "y_pred_rfcGINI = clf_rfcGINI.predict(X_test)"
      ],
      "execution_count": null,
      "outputs": []
    },
    {
      "cell_type": "markdown",
      "metadata": {
        "id": "jHQOwA8ln7mK"
      },
      "source": [
        "- with Entropy"
      ]
    },
    {
      "cell_type": "code",
      "metadata": {
        "colab": {
          "base_uri": "https://localhost:8080/"
        },
        "id": "i5w2G6H5n7B_",
        "outputId": "5a7c9584-6dad-4cfb-b8d1-63fea5a1919c"
      },
      "source": [
        "clf_rfcENTROPY = RandomForestClassifier(n_estimators = 10, criterion = 'entropy', random_state = 0, n_jobs=-1)\n",
        "clf_rfcENTROPY.fit(X_train, y_train)"
      ],
      "execution_count": null,
      "outputs": [
        {
          "output_type": "execute_result",
          "data": {
            "text/plain": [
              "RandomForestClassifier(bootstrap=True, ccp_alpha=0.0, class_weight=None,\n",
              "                       criterion='entropy', max_depth=None, max_features='auto',\n",
              "                       max_leaf_nodes=None, max_samples=None,\n",
              "                       min_impurity_decrease=0.0, min_impurity_split=None,\n",
              "                       min_samples_leaf=1, min_samples_split=2,\n",
              "                       min_weight_fraction_leaf=0.0, n_estimators=10, n_jobs=-1,\n",
              "                       oob_score=False, random_state=0, verbose=0,\n",
              "                       warm_start=False)"
            ]
          },
          "metadata": {},
          "execution_count": 138
        }
      ]
    },
    {
      "cell_type": "code",
      "metadata": {
        "id": "Vlg-wyXan-hq"
      },
      "source": [
        "y_pred_rfcENTROPY = clf_rfcENTROPY.predict(X_test)"
      ],
      "execution_count": null,
      "outputs": []
    },
    {
      "cell_type": "markdown",
      "metadata": {
        "id": "zo7wqfR_oKeW"
      },
      "source": [
        "- with Grid Search : "
      ]
    },
    {
      "cell_type": "code",
      "metadata": {
        "colab": {
          "base_uri": "https://localhost:8080/"
        },
        "id": "huPoAMGaoKeX",
        "outputId": "cf8e6c2d-7e2e-49c8-8fd4-9d886eae430b"
      },
      "source": [
        "from sklearn.model_selection import GridSearchCV, learning_curve\n",
        "\n",
        "hyperparams = {\n",
        "                'max_depth' : np.linspace(10, 100,num=10).tolist(),    # [10.0, 20.0, 30.0, 40.0, 50.0, 60.0, 70.0, 80.0, 90.0, 100.0]\n",
        "                'criterion': ['gini', 'entropy'],\n",
        "              }\n",
        "gs_rfc = GridSearchCV(estimator=DecisionTreeClassifier(), \n",
        "                           param_grid=hyperparams,\n",
        "                           scoring='accuracy',  \n",
        "                           cv=10,\n",
        "                           )\n",
        "gs_rfc.fit(X_train, y_train)"
      ],
      "execution_count": null,
      "outputs": [
        {
          "output_type": "execute_result",
          "data": {
            "text/plain": [
              "GridSearchCV(cv=10, error_score=nan,\n",
              "             estimator=DecisionTreeClassifier(ccp_alpha=0.0, class_weight=None,\n",
              "                                              criterion='gini', max_depth=None,\n",
              "                                              max_features=None,\n",
              "                                              max_leaf_nodes=None,\n",
              "                                              min_impurity_decrease=0.0,\n",
              "                                              min_impurity_split=None,\n",
              "                                              min_samples_leaf=1,\n",
              "                                              min_samples_split=2,\n",
              "                                              min_weight_fraction_leaf=0.0,\n",
              "                                              presort='deprecated',\n",
              "                                              random_state=None,\n",
              "                                              splitter='best'),\n",
              "             iid='deprecated', n_jobs=None,\n",
              "             param_grid={'criterion': ['gini', 'entropy'],\n",
              "                         'max_depth': [10.0, 20.0, 30.0, 40.0, 50.0, 60.0, 70.0,\n",
              "                                       80.0, 90.0, 100.0]},\n",
              "             pre_dispatch='2*n_jobs', refit=True, return_train_score=False,\n",
              "             scoring='accuracy', verbose=0)"
            ]
          },
          "metadata": {},
          "execution_count": 140
        }
      ]
    },
    {
      "cell_type": "markdown",
      "metadata": {
        "id": "ZA9bg5vzoKeX"
      },
      "source": [
        "- Printing The best Accuracy achieved through various combinations :"
      ]
    },
    {
      "cell_type": "code",
      "metadata": {
        "colab": {
          "base_uri": "https://localhost:8080/"
        },
        "id": "TPpG-mGKoKeX",
        "outputId": "c1807ff9-fb4c-45ac-8398-70648b7a878e"
      },
      "source": [
        "print(f\"Best Accuracy achieved : {gs_rfc.best_score_*100:.2f}%\")"
      ],
      "execution_count": null,
      "outputs": [
        {
          "output_type": "stream",
          "name": "stdout",
          "text": [
            "Best Accuracy achieved : 98.41%\n"
          ]
        }
      ]
    },
    {
      "cell_type": "markdown",
      "metadata": {
        "id": "8ag3vRWQoKeX"
      },
      "source": [
        "- Priting the best parameters through which highest accuracy is achieved :"
      ]
    },
    {
      "cell_type": "code",
      "metadata": {
        "colab": {
          "base_uri": "https://localhost:8080/"
        },
        "id": "8I2paCNhoKeX",
        "outputId": "0959343d-dfed-40ef-f458-e23b141c8a82"
      },
      "source": [
        "print(f\"Best parameters achieved : {gs_rfc.best_params_}\")"
      ],
      "execution_count": null,
      "outputs": [
        {
          "output_type": "stream",
          "name": "stdout",
          "text": [
            "Best parameters achieved : {'criterion': 'entropy', 'max_depth': 60.0}\n"
          ]
        }
      ]
    },
    {
      "cell_type": "code",
      "metadata": {
        "id": "wnq1oEqXoKeX"
      },
      "source": [
        "y_pred_rfcGS = gs_rfc.predict(X_test)"
      ],
      "execution_count": null,
      "outputs": []
    },
    {
      "cell_type": "markdown",
      "metadata": {
        "id": "hu1u1huDqZR0"
      },
      "source": [
        "### 7. **Multi Layer Perceptron**\n"
      ]
    },
    {
      "cell_type": "markdown",
      "metadata": {
        "id": "CGo_Hrz9CSQa"
      },
      "source": [
        "- This section creates a Multi-layer Perceptron. Once the model is fit into training data, then score of the classifier is calculated. Score returns the mean accuracy on the given test data and labels.\n",
        "\n",
        "- In MLP, default values of various important parameters are as below:\n",
        "\n",
        "\n",
        "1.   Hidden Layer Size - (100,)\n",
        "2.   Activation function - relu\n",
        "3.   Initial Learning rate - 0.001\n",
        "4.   Learning rate - constant\n",
        "5.   Alpha (L2 regularisation parameter) - 0.0001\n",
        "6.   Maximum number of iterations - 200\n",
        "\n",
        "- We can change these hyperparameters manually for obtaining the best score. But that would be troublesome. Instead we can make use of GridSearchCV here as well. We even tried to add it in our program, but it couldn't complete it's execution (possibly due to expensive computation it would require for testing all permutations and combinations with different possible hyperparamters). Hence due to this reason and also due to already getting very high score, we chose to remove the GridSearchCV from the implementation of MLP.\n",
        "\n"
      ]
    },
    {
      "cell_type": "code",
      "metadata": {
        "id": "vVoFQvsZq79P"
      },
      "source": [
        "from sklearn.neural_network import MLPClassifier\n",
        "clf_mlp = MLPClassifier(max_iter=10000)\n",
        "clf_mlp.fit(X_train, y_train)\n",
        "y_pred_mlp = clf_mlp.predict(X_test)\n",
        "mlp_accuracy = clf_mlp.score(X_test,y_test)"
      ],
      "execution_count": null,
      "outputs": []
    },
    {
      "cell_type": "code",
      "metadata": {
        "colab": {
          "base_uri": "https://localhost:8080/"
        },
        "id": "Pb65hypmFDCq",
        "outputId": "0c5bc17b-7753-4ea4-a0f4-4eafa90b63b8"
      },
      "source": [
        "print(f'Accuracy achieved: {mlp_accuracy*100:.2f}%')"
      ],
      "execution_count": null,
      "outputs": [
        {
          "output_type": "stream",
          "name": "stdout",
          "text": [
            "Accuracy achieved: 98.84%\n"
          ]
        }
      ]
    },
    {
      "cell_type": "markdown",
      "metadata": {
        "id": "WjhgSPmXcqlb"
      },
      "source": [
        "### **Extra models** : \n"
      ]
    },
    {
      "cell_type": "markdown",
      "metadata": {
        "id": "tjQSBkwRc8Cq"
      },
      "source": [
        "  - #### **Extreme Gradient Boosting** *(XGBoost)*"
      ]
    },
    {
      "cell_type": "code",
      "metadata": {
        "colab": {
          "base_uri": "https://localhost:8080/"
        },
        "id": "9sOIDu7tf5-7",
        "outputId": "3a6078f5-86ca-458d-e364-7433621d5b7e"
      },
      "source": [
        "pip install -U xgboost"
      ],
      "execution_count": null,
      "outputs": [
        {
          "output_type": "stream",
          "name": "stdout",
          "text": [
            "Requirement already satisfied: xgboost in /usr/local/lib/python3.7/dist-packages (1.5.0)\n",
            "Requirement already satisfied: numpy in /usr/local/lib/python3.7/dist-packages (from xgboost) (1.19.5)\n",
            "Requirement already satisfied: scipy in /usr/local/lib/python3.7/dist-packages (from xgboost) (1.4.1)\n"
          ]
        }
      ]
    },
    {
      "cell_type": "markdown",
      "metadata": {
        "id": "FR2rQhmsezcy"
      },
      "source": [
        "- Training XGBoost model on training set"
      ]
    },
    {
      "cell_type": "code",
      "metadata": {
        "colab": {
          "base_uri": "https://localhost:8080/"
        },
        "id": "ZJfqYwVidIkh",
        "outputId": "1d964d49-2a68-4dc0-f8f4-610b149ac748"
      },
      "source": [
        "from xgboost import XGBClassifier\n",
        "clf_xgb = XGBClassifier(use_label_encoder =False, eval_metric = 'mlogloss')\n",
        "clf_xgb.fit(dataset.iloc[:,:-1].values, dataset.iloc[:,-1].values)"
      ],
      "execution_count": null,
      "outputs": [
        {
          "output_type": "execute_result",
          "data": {
            "text/plain": [
              "XGBClassifier(base_score=0.5, booster='gbtree', colsample_bylevel=1,\n",
              "              colsample_bynode=1, colsample_bytree=1, enable_categorical=False,\n",
              "              eval_metric='mlogloss', gamma=0, gpu_id=-1, importance_type=None,\n",
              "              interaction_constraints='', learning_rate=0.300000012,\n",
              "              max_delta_step=0, max_depth=6, min_child_weight=1, missing=nan,\n",
              "              monotone_constraints='()', n_estimators=100, n_jobs=2,\n",
              "              num_parallel_tree=1, objective='multi:softprob', predictor='auto',\n",
              "              random_state=0, reg_alpha=0, reg_lambda=1, scale_pos_weight=None,\n",
              "              subsample=1, tree_method='exact', use_label_encoder=False,\n",
              "              validate_parameters=1, ...)"
            ]
          },
          "metadata": {},
          "execution_count": 149
        }
      ]
    },
    {
      "cell_type": "markdown",
      "metadata": {
        "id": "zAeKjM_TeyN-"
      },
      "source": [
        "- Confusion matrix and Accuracy Score : "
      ]
    },
    {
      "cell_type": "code",
      "metadata": {
        "colab": {
          "base_uri": "https://localhost:8080/"
        },
        "id": "0O7E7isWedxk",
        "outputId": "23b6dc13-e16b-4698-8fa9-e90ea3e14c00"
      },
      "source": [
        "from sklearn.metrics import confusion_matrix, accuracy_score\n",
        "y_pred_xgb = clf_xgb.predict(X_test)\n",
        "cm_xgb = confusion_matrix(y_test, y_pred_xgb)\n",
        "print(cm_xgb)\n",
        "accuracy_score(y_test, y_pred_xgb)"
      ],
      "execution_count": null,
      "outputs": [
        {
          "output_type": "stream",
          "name": "stdout",
          "text": [
            "[[240   0   0   0]\n",
            " [ 79   0   0   0]\n",
            " [ 17   0   0   0]\n",
            " [ 10   0   0   0]]\n"
          ]
        },
        {
          "output_type": "execute_result",
          "data": {
            "text/plain": [
              "0.6936416184971098"
            ]
          },
          "metadata": {},
          "execution_count": 150
        }
      ]
    },
    {
      "cell_type": "markdown",
      "metadata": {
        "id": "LJAMWOCWfAs9"
      },
      "source": [
        "- K-Fold Cross Validation :"
      ]
    },
    {
      "cell_type": "code",
      "metadata": {
        "colab": {
          "base_uri": "https://localhost:8080/"
        },
        "id": "dlyekEMCfGwG",
        "outputId": "43b56d54-034f-49bf-e05c-6fc83bf74534"
      },
      "source": [
        "from sklearn.model_selection import cross_val_score\n",
        "accuracies_xgb = cross_val_score(estimator = clf_xgb, X = X_train, y = y_train, cv = 10)\n",
        "print(f\"Accuracy: {accuracies_xgb.mean()*100:.2f} %\")\n",
        "print(f\"Standard Deviation: {accuracies_xgb.std()*100:.2f} %\")"
      ],
      "execution_count": null,
      "outputs": [
        {
          "output_type": "stream",
          "name": "stdout",
          "text": [
            "Accuracy: 98.99 %\n",
            "Standard Deviation: 0.93 %\n"
          ]
        }
      ]
    },
    {
      "cell_type": "markdown",
      "metadata": {
        "id": "ky17bNryi4Kn"
      },
      "source": [
        "## **Learning curves**\n",
        "\n",
        "Here, we are explore learning curves. learning_curve is an inbuilt function in package sklearn.model_selection. It helps us to determine cross-validated training and test scores for different training set sizes. When we plot it, we get a visualisation of this and our purpose gets clear.\n",
        "\n",
        "Here we have plotted learning curves for three classification models:\n",
        "\n",
        "\n",
        "1.   Decision Trees\n",
        "2.   Random Forest Classifier\n",
        "3.   Multi Layer Perceptron\n",
        "\n"
      ]
    },
    {
      "cell_type": "code",
      "metadata": {
        "id": "Ac5iJJf2i0Xi"
      },
      "source": [
        "def plot_learning_curve(estimator, title, X, y, axes=None, ylim=None, cv=None,\n",
        "                        n_jobs=None, train_sizes=np.linspace(.1, 1.0, 5)):\n",
        "    if axes is None:\n",
        "        _, axes = plt.subplots(1, 3, figsize=(20, 5))\n",
        "\n",
        "    axes[0].set_title(title)\n",
        "    if ylim is not None:\n",
        "        axes[0].set_ylim(*ylim)\n",
        "    axes[0].set_xlabel(\"Training examples\")\n",
        "    axes[0].set_ylabel(\"Score\")\n",
        "\n",
        "    train_sizes, train_scores, test_scores, fit_times, _ = \\\n",
        "        learning_curve(estimator, X, y, cv=cv, n_jobs=n_jobs,\n",
        "                       train_sizes=train_sizes,\n",
        "                       return_times=True)\n",
        "    train_scores_mean = np.mean(train_scores, axis=1)\n",
        "    train_scores_std = np.std(train_scores, axis=1)\n",
        "    test_scores_mean = np.mean(test_scores, axis=1)\n",
        "    test_scores_std = np.std(test_scores, axis=1)\n",
        "    fit_times_mean = np.mean(fit_times, axis=1)\n",
        "    fit_times_std = np.std(fit_times, axis=1)\n",
        "\n",
        "    # Plot learning curve\n",
        "    axes[0].grid()\n",
        "    axes[0].fill_between(train_sizes, train_scores_mean - train_scores_std,\n",
        "                         train_scores_mean + train_scores_std, alpha=0.1,\n",
        "                         color=\"r\")\n",
        "    axes[0].fill_between(train_sizes, test_scores_mean - test_scores_std,\n",
        "                         test_scores_mean + test_scores_std, alpha=0.1,\n",
        "                         color=\"g\")\n",
        "    axes[0].plot(train_sizes, train_scores_mean, 'o-', color=\"r\",\n",
        "                 label=\"Training score\")\n",
        "    axes[0].plot(train_sizes, test_scores_mean, 'o-', color=\"g\",\n",
        "                 label=\"Cross-validation score\")\n",
        "    axes[0].legend(loc=\"best\")\n",
        "\n",
        "    # Plot n_samples vs fit_times\n",
        "    axes[1].grid()\n",
        "    axes[1].plot(train_sizes, fit_times_mean, 'o-')\n",
        "    axes[1].fill_between(train_sizes, fit_times_mean - fit_times_std,\n",
        "                         fit_times_mean + fit_times_std, alpha=0.1)\n",
        "    axes[1].set_xlabel(\"Training examples\")\n",
        "    axes[1].set_ylabel(\"fit_times\")\n",
        "    axes[1].set_title(\"Scalability of the model\")\n",
        "\n",
        "    # Plot fit_time vs score\n",
        "    axes[2].grid()\n",
        "    axes[2].plot(fit_times_mean, test_scores_mean, 'o-')\n",
        "    axes[2].fill_between(fit_times_mean, test_scores_mean - test_scores_std,\n",
        "                         test_scores_mean + test_scores_std, alpha=0.1)\n",
        "    axes[2].set_xlabel(\"fit_times\")\n",
        "    axes[2].set_ylabel(\"Score\")\n",
        "    axes[2].set_title(\"Performance of the model\")\n",
        "\n",
        "\n",
        "    return plt"
      ],
      "execution_count": null,
      "outputs": []
    },
    {
      "cell_type": "code",
      "metadata": {
        "colab": {
          "base_uri": "https://localhost:8080/",
          "height": 1000
        },
        "id": "9-v3SGvsjQhT",
        "outputId": "d81d34d6-a3bf-4602-f04e-eebbb891d8de"
      },
      "source": [
        "title = f'Learning curve (Random Forest Classifier - {gs_rfc.best_params_})'\n",
        "plot_learning_curve(gs_rfc, title, X, y, ylim=(0.7, 1.01), n_jobs=4)\n",
        "\n",
        "title = f'Learning curve (Decision Trees - {gs_dt.best_params_})'\n",
        "plot_learning_curve(gs_dt, title, X, y, ylim=(0.7, 1.01), n_jobs=4)\n",
        "\n",
        "title = f'Learning curve (Multi Layer Perceptron)'\n",
        "plot_learning_curve(clf_mlp, title, X, y, ylim=(0.7, 1.01), n_jobs=4)"
      ],
      "execution_count": null,
      "outputs": [
        {
          "output_type": "execute_result",
          "data": {
            "text/plain": [
              "<module 'matplotlib.pyplot' from '/usr/local/lib/python3.7/dist-packages/matplotlib/pyplot.py'>"
            ]
          },
          "metadata": {},
          "execution_count": 147
        },
        {
          "output_type": "display_data",
          "data": {
            "image/png": "[encoded data removed]",
            "text/plain": [
              "<Figure size 1440x360 with 3 Axes>"
            ]
          },
          "metadata": {
            "needs_background": "light"
          }
        },
        {
          "output_type": "display_data",
          "data": {
            "image/png": "[encoded data removed]",
            "text/plain": [
              "<Figure size 1440x360 with 3 Axes>"
            ]
          },
          "metadata": {
            "needs_background": "light"
          }
        },
        {
          "output_type": "display_data",
          "data": {
            "image/png": "[encoded data removed]",
            "text/plain": [
              "<Figure size 1440x360 with 3 Axes>"
            ]
          },
          "metadata": {
            "needs_background": "light"
          }
        }
      ]
    },
    {
      "cell_type": "markdown",
      "metadata": {
        "id": "7MgZ5Da4tM9q"
      },
      "source": [
        "## **Evaluating the model performance**\n",
        "\n",
        "- This is a very important function as it will take the predictions and output of testing data from various models and present respective results' analysis in the form of:\n",
        "  - Classification report\n",
        "  - Confusion matrix\n",
        "  - Accuracy score\n",
        "  - K-Fold Cross Validation"
      ]
    },
    {
      "cell_type": "code",
      "metadata": {
        "colab": {
          "base_uri": "https://localhost:8080/"
        },
        "id": "iebTnBet88D9",
        "outputId": "d95549cd-45bc-4640-bf4b-b1b208366d93"
      },
      "source": [
        "pip install -U prettytable"
      ],
      "execution_count": null,
      "outputs": [
        {
          "output_type": "stream",
          "name": "stdout",
          "text": [
            "Requirement already satisfied: prettytable in /usr/local/lib/python3.7/dist-packages (2.4.0)\n",
            "Requirement already satisfied: wcwidth in /usr/local/lib/python3.7/dist-packages (from prettytable) (0.2.5)\n",
            "Requirement already satisfied: importlib-metadata in /usr/local/lib/python3.7/dist-packages (from prettytable) (4.8.2)\n",
            "Requirement already satisfied: typing-extensions>=3.6.4 in /usr/local/lib/python3.7/dist-packages (from importlib-metadata->prettytable) (3.10.0.2)\n",
            "Requirement already satisfied: zipp>=0.5 in /usr/local/lib/python3.7/dist-packages (from importlib-metadata->prettytable) (3.6.0)\n"
          ]
        }
      ]
    },
    {
      "cell_type": "code",
      "metadata": {
        "id": "Z_I8Kc5Gtosa"
      },
      "source": [
        "from prettytable import PrettyTable\n",
        "from sklearn.metrics import classification_report, confusion_matrix, accuracy_score"
      ],
      "execution_count": null,
      "outputs": []
    },
    {
      "cell_type": "markdown",
      "metadata": {
        "id": "Gz55BPzdZr2_"
      },
      "source": [
        "- ### **Classification Reports :**"
      ]
    },
    {
      "cell_type": "code",
      "metadata": {
        "colab": {
          "base_uri": "https://localhost:8080/"
        },
        "id": "jrRzuKGGZvd0",
        "outputId": "d2022987-8587-4f38-b72e-22525546f16d"
      },
      "source": [
        "predictions = [y_pred_lr, y_pred_knn, y_pred_knnGS, y_pred_svc, y_pred_kernelSVC, y_pred_nbGB, y_pred_nbBNB, y_pred_nbMNB, y_pred_dtGINI, y_pred_dtENTROPY, y_pred_dtGS, y_pred_rfcGINI, y_pred_rfcENTROPY, y_pred_rfcGS, y_pred_mlp]\n",
        "models = [\n",
        "          'Logistic Regression',\n",
        "          'K Nearest Neighbor',\n",
        "          'K Nearest Neighbor (with Grid Search)',\n",
        "          'Support Vector Machine (with Linear)',\n",
        "          'Support Vector Machine (with Kernel)',\n",
        "          'Naïve Bayes (with Gaussian)',\n",
        "          'Naïve Bayes (with Bernoulli)',\n",
        "          'Naïve Bayes (with Multinomial)',\n",
        "          'Decision Tree (with GINI)',\n",
        "          'Decision Tree (with Entropy)',\n",
        "          'Decision Tree (with GridSearch)',\n",
        "          'Random Forest (with GINI)',\n",
        "          'Random Forest (with ENTROPY)',\n",
        "          'Random Forest (with GridSearch)',\n",
        "          'Multi Layer Perceptron'\n",
        "         ]\n",
        "for i in range(len(predictions)):\n",
        "  print(f'\\n---------------------- Classification Report of: {models[i]} ----------------------\\n')\n",
        "  print(classification_report(y_test,predictions[i]))"
      ],
      "execution_count": null,
      "outputs": [
        {
          "output_type": "stream",
          "name": "stdout",
          "text": [
            "\n",
            "---------------------- Classification Report of: Logistic Regression ----------------------\n",
            "\n",
            "              precision    recall  f1-score   support\n",
            "\n",
            "           0       0.87      0.95      0.91       240\n",
            "           1       0.58      0.57      0.58        79\n",
            "           2       0.67      0.12      0.20        17\n",
            "           3       0.75      0.30      0.43        10\n",
            "\n",
            "    accuracy                           0.80       346\n",
            "   macro avg       0.72      0.48      0.53       346\n",
            "weighted avg       0.79      0.80      0.78       346\n",
            "\n",
            "\n",
            "---------------------- Classification Report of: K Nearest Neighbor ----------------------\n",
            "\n",
            "              precision    recall  f1-score   support\n",
            "\n",
            "           0       0.98      0.99      0.99       240\n",
            "           1       0.94      0.95      0.94        79\n",
            "           2       1.00      0.88      0.94        17\n",
            "           3       1.00      0.90      0.95        10\n",
            "\n",
            "    accuracy                           0.97       346\n",
            "   macro avg       0.98      0.93      0.95       346\n",
            "weighted avg       0.97      0.97      0.97       346\n",
            "\n",
            "\n",
            "---------------------- Classification Report of: K Nearest Neighbor (with Grid Search) ----------------------\n",
            "\n",
            "              precision    recall  f1-score   support\n",
            "\n",
            "           0       0.98      0.99      0.99       240\n",
            "           1       0.95      0.92      0.94        79\n",
            "           2       0.94      0.94      0.94        17\n",
            "           3       0.90      0.90      0.90        10\n",
            "\n",
            "    accuracy                           0.97       346\n",
            "   macro avg       0.94      0.94      0.94       346\n",
            "weighted avg       0.97      0.97      0.97       346\n",
            "\n",
            "\n",
            "---------------------- Classification Report of: Support Vector Machine (with Linear) ----------------------\n",
            "\n",
            "              precision    recall  f1-score   support\n",
            "\n",
            "           0       0.90      0.93      0.91       240\n",
            "           1       0.73      0.68      0.71        79\n",
            "           2       0.93      0.76      0.84        17\n",
            "           3       0.90      0.90      0.90        10\n",
            "\n",
            "    accuracy                           0.86       346\n",
            "   macro avg       0.86      0.82      0.84       346\n",
            "weighted avg       0.86      0.86      0.86       346\n",
            "\n",
            "\n",
            "---------------------- Classification Report of: Support Vector Machine (with Kernel) ----------------------\n",
            "\n",
            "              precision    recall  f1-score   support\n",
            "\n",
            "           0       0.99      0.97      0.98       240\n",
            "           1       0.90      0.95      0.93        79\n",
            "           2       0.88      0.82      0.85        17\n",
            "           3       0.82      0.90      0.86        10\n",
            "\n",
            "    accuracy                           0.96       346\n",
            "   macro avg       0.90      0.91      0.90       346\n",
            "weighted avg       0.96      0.96      0.96       346\n",
            "\n",
            "\n",
            "---------------------- Classification Report of: Naïve Bayes (with Gaussian) ----------------------\n",
            "\n",
            "              precision    recall  f1-score   support\n",
            "\n",
            "           0       0.93      0.90      0.92       240\n",
            "           1       0.47      0.28      0.35        79\n",
            "           2       0.38      0.18      0.24        17\n",
            "           3       0.17      1.00      0.29        10\n",
            "\n",
            "    accuracy                           0.73       346\n",
            "   macro avg       0.49      0.59      0.45       346\n",
            "weighted avg       0.78      0.73      0.73       346\n",
            "\n",
            "\n",
            "---------------------- Classification Report of: Naïve Bayes (with Bernoulli) ----------------------\n",
            "\n",
            "              precision    recall  f1-score   support\n",
            "\n",
            "           0       0.91      0.90      0.91       240\n",
            "           1       0.54      0.73      0.62        79\n",
            "           2       0.00      0.00      0.00        17\n",
            "           3       0.00      0.00      0.00        10\n",
            "\n",
            "    accuracy                           0.79       346\n",
            "   macro avg       0.36      0.41      0.38       346\n",
            "weighted avg       0.76      0.79      0.77       346\n",
            "\n",
            "\n",
            "---------------------- Classification Report of: Naïve Bayes (with Multinomial) ----------------------\n",
            "\n",
            "              precision    recall  f1-score   support\n",
            "\n",
            "           0       0.76      0.96      0.85       240\n",
            "           1       0.75      0.04      0.07        79\n",
            "           2       0.41      0.76      0.53        17\n",
            "           3       0.40      0.20      0.27        10\n",
            "\n",
            "    accuracy                           0.72       346\n",
            "   macro avg       0.58      0.49      0.43       346\n",
            "weighted avg       0.73      0.72      0.64       346\n",
            "\n",
            "\n",
            "---------------------- Classification Report of: Decision Tree (with GINI) ----------------------\n",
            "\n",
            "              precision    recall  f1-score   support\n",
            "\n",
            "           0       0.98      1.00      0.99       240\n",
            "           1       0.97      0.89      0.93        79\n",
            "           2       0.81      1.00      0.89        17\n",
            "           3       1.00      0.90      0.95        10\n",
            "\n",
            "    accuracy                           0.97       346\n",
            "   macro avg       0.94      0.95      0.94       346\n",
            "weighted avg       0.97      0.97      0.97       346\n",
            "\n",
            "\n",
            "---------------------- Classification Report of: Decision Tree (with Entropy) ----------------------\n",
            "\n",
            "              precision    recall  f1-score   support\n",
            "\n",
            "           0       0.98      1.00      0.99       240\n",
            "           1       0.97      0.87      0.92        79\n",
            "           2       0.81      1.00      0.89        17\n",
            "           3       1.00      0.90      0.95        10\n",
            "\n",
            "    accuracy                           0.97       346\n",
            "   macro avg       0.94      0.94      0.94       346\n",
            "weighted avg       0.97      0.97      0.97       346\n",
            "\n",
            "\n",
            "---------------------- Classification Report of: Decision Tree (with GridSearch) ----------------------\n",
            "\n",
            "              precision    recall  f1-score   support\n",
            "\n",
            "           0       0.98      1.00      0.99       240\n",
            "           1       0.97      0.87      0.92        79\n",
            "           2       0.81      1.00      0.89        17\n",
            "           3       1.00      0.90      0.95        10\n",
            "\n",
            "    accuracy                           0.97       346\n",
            "   macro avg       0.94      0.94      0.94       346\n",
            "weighted avg       0.97      0.97      0.97       346\n",
            "\n",
            "\n",
            "---------------------- Classification Report of: Random Forest (with GINI) ----------------------\n",
            "\n",
            "              precision    recall  f1-score   support\n",
            "\n",
            "           0       0.98      1.00      0.99       240\n",
            "           1       0.95      0.90      0.92        79\n",
            "           2       0.82      0.82      0.82        17\n",
            "           3       0.73      0.80      0.76        10\n",
            "\n",
            "    accuracy                           0.96       346\n",
            "   macro avg       0.87      0.88      0.87       346\n",
            "weighted avg       0.96      0.96      0.96       346\n",
            "\n",
            "\n",
            "---------------------- Classification Report of: Random Forest (with ENTROPY) ----------------------\n",
            "\n",
            "              precision    recall  f1-score   support\n",
            "\n",
            "           0       0.99      1.00      1.00       240\n",
            "           1       0.97      0.90      0.93        79\n",
            "           2       0.76      0.76      0.76        17\n",
            "           3       0.64      0.90      0.75        10\n",
            "\n",
            "    accuracy                           0.96       346\n",
            "   macro avg       0.84      0.89      0.86       346\n",
            "weighted avg       0.97      0.96      0.96       346\n",
            "\n",
            "\n",
            "---------------------- Classification Report of: Random Forest (with GridSearch) ----------------------\n",
            "\n",
            "              precision    recall  f1-score   support\n",
            "\n",
            "           0       0.98      1.00      0.99       240\n",
            "           1       0.97      0.91      0.94        79\n",
            "           2       0.89      1.00      0.94        17\n",
            "           3       1.00      0.90      0.95        10\n",
            "\n",
            "    accuracy                           0.97       346\n",
            "   macro avg       0.96      0.95      0.96       346\n",
            "weighted avg       0.97      0.97      0.97       346\n",
            "\n",
            "\n",
            "---------------------- Classification Report of: Multi Layer Perceptron ----------------------\n",
            "\n",
            "              precision    recall  f1-score   support\n",
            "\n",
            "           0       0.99      1.00      1.00       240\n",
            "           1       0.99      0.96      0.97        79\n",
            "           2       0.94      1.00      0.97        17\n",
            "           3       1.00      0.90      0.95        10\n",
            "\n",
            "    accuracy                           0.99       346\n",
            "   macro avg       0.98      0.97      0.97       346\n",
            "weighted avg       0.99      0.99      0.99       346\n",
            "\n"
          ]
        },
        {
          "output_type": "stream",
          "name": "stderr",
          "text": [
            "/usr/local/lib/python3.7/dist-packages/sklearn/metrics/_classification.py:1272: UndefinedMetricWarning: Precision and F-score are ill-defined and being set to 0.0 in labels with no predicted samples. Use `zero_division` parameter to control this behavior.\n",
            "  _warn_prf(average, modifier, msg_start, len(result))\n"
          ]
        }
      ]
    },
    {
      "cell_type": "markdown",
      "metadata": {
        "id": "rf-za5tmtbJx"
      },
      "source": [
        "- ### **Confusion Matrix :**"
      ]
    },
    {
      "cell_type": "code",
      "metadata": {
        "colab": {
          "base_uri": "https://localhost:8080/"
        },
        "id": "67CsbqF0tlTQ",
        "outputId": "197f509f-2215-4388-bb3f-d76e7928b355"
      },
      "source": [
        "confusionMatrixTable = PrettyTable()\n",
        "confusionMatrixTable.field_names = [\"Model\", \"Confusion Matrix\"]\n",
        "confusionMatrixTable.add_row([\"Logistic Regression\", confusion_matrix(y_test, y_pred_lr)])\n",
        "confusionMatrixTable.add_row([\"------------------------------\", \"------------------\"])\n",
        "confusionMatrixTable.add_row([\"K Nearest Neighbor\", confusion_matrix(y_test, y_pred_knn)])\n",
        "confusionMatrixTable.add_row([\"K Nearest Neighbor (with Grid Search)\", confusion_matrix(y_test, y_pred_knnGS)])\n",
        "confusionMatrixTable.add_row([\"------------------------------\", \"------------------\"])\n",
        "confusionMatrixTable.add_row([\"Support Vector Machine (with Linear)\", confusion_matrix(y_test, y_pred_svc)])\n",
        "confusionMatrixTable.add_row([\"Support Vector Machine (with Kernel)\", confusion_matrix(y_test, y_pred_kernelSVC)])\n",
        "confusionMatrixTable.add_row([\"------------------------------\", \"------------------\"])\n",
        "confusionMatrixTable.add_row([\"Naïve Bayes (with Gaussian)\", confusion_matrix(y_test, y_pred_nbGB)])\n",
        "confusionMatrixTable.add_row([\"Naïve Bayes (with Bernoulli)\", confusion_matrix(y_test, y_pred_nbBNB)])\n",
        "confusionMatrixTable.add_row([\"Naïve Bayes (with Multinomial)\", confusion_matrix(y_test, y_pred_nbMNB)])\n",
        "confusionMatrixTable.add_row([\"------------------------------\", \"------------------\"])\n",
        "confusionMatrixTable.add_row([\"Decision Tree (with GINI)\", confusion_matrix(y_test, y_pred_dtGINI)])\n",
        "confusionMatrixTable.add_row([\"Decision Tree (with Entropy)\", confusion_matrix(y_test, y_pred_dtENTROPY)])\n",
        "confusionMatrixTable.add_row([\"Decision Tree (with GridSearch)\", confusion_matrix(y_test, y_pred_dtGS)])\n",
        "confusionMatrixTable.add_row([\"------------------------------\", \"------------------\"])\n",
        "confusionMatrixTable.add_row([\"Random Forest (with GINI)\", confusion_matrix(y_test, y_pred_rfcGINI)])\n",
        "confusionMatrixTable.add_row([\"Random Forest (with ENTROPY)\", confusion_matrix(y_test, y_pred_rfcENTROPY)])\n",
        "confusionMatrixTable.add_row([\"Random Forest (with GridSearch)\", confusion_matrix(y_test, y_pred_rfcGS)])\n",
        "confusionMatrixTable.add_row([\"------------------------------\", \"------------------\"])\n",
        "confusionMatrixTable.add_row([\"Multi Layer Perceptron\", confusion_matrix(y_test, y_pred_mlp)])\n",
        "\n",
        "print(confusionMatrixTable)"
      ],
      "execution_count": null,
      "outputs": [
        {
          "output_type": "stream",
          "name": "stdout",
          "text": [
            "+---------------------------------------+---------------------+\n",
            "|                 Model                 |   Confusion Matrix  |\n",
            "+---------------------------------------+---------------------+\n",
            "|          Logistic Regression          |  [[228  12   0   0] |\n",
            "|                                       |   [ 33  45   1   0] |\n",
            "|                                       |   [  1  13   2   1] |\n",
            "|                                       |  [  0   7   0   3]] |\n",
            "|     ------------------------------    |  ------------------ |\n",
            "|           K Nearest Neighbor          |  [[238   2   0   0] |\n",
            "|                                       |   [  4  75   0   0] |\n",
            "|                                       |   [  0   2  15   0] |\n",
            "|                                       |  [  0   1   0   9]] |\n",
            "| K Nearest Neighbor (with Grid Search) |  [[238   2   0   0] |\n",
            "|                                       |   [  4  73   1   1] |\n",
            "|                                       |   [  0   1  16   0] |\n",
            "|                                       |  [  0   1   0   9]] |\n",
            "|     ------------------------------    |  ------------------ |\n",
            "|  Support Vector Machine (with Linear) |  [[222  18   0   0] |\n",
            "|                                       |   [ 24  54   1   0] |\n",
            "|                                       |   [  2   1  13   1] |\n",
            "|                                       |  [  0   1   0   9]] |\n",
            "|  Support Vector Machine (with Kernel) |  [[234   6   0   0] |\n",
            "|                                       |   [  2  75   2   0] |\n",
            "|                                       |   [  0   1  14   2] |\n",
            "|                                       |  [  0   1   0   9]] |\n",
            "|     ------------------------------    |  ------------------ |\n",
            "|      Naïve Bayes (with Gaussian)      |  [[216  19   0   5] |\n",
            "|                                       |   [ 16  22   5  36] |\n",
            "|                                       |   [  0   6   3   8] |\n",
            "|                                       |  [  0   0   0  10]] |\n",
            "|      Naïve Bayes (with Bernoulli)     |  [[217  23   0   0] |\n",
            "|                                       |   [ 21  58   0   0] |\n",
            "|                                       |   [  0  17   0   0] |\n",
            "|                                       |  [  0  10   0   0]] |\n",
            "|     Naïve Bayes (with Multinomial)    |  [[231   0   8   1] |\n",
            "|                                       |   [ 71   3   5   0] |\n",
            "|                                       |   [  2   0  13   2] |\n",
            "|                                       |  [  1   1   6   2]] |\n",
            "|     ------------------------------    |  ------------------ |\n",
            "|       Decision Tree (with GINI)       |  [[239   1   0   0] |\n",
            "|                                       |   [  5  70   4   0] |\n",
            "|                                       |   [  0   0  17   0] |\n",
            "|                                       |  [  0   1   0   9]] |\n",
            "|      Decision Tree (with Entropy)     |  [[239   1   0   0] |\n",
            "|                                       |   [  6  69   4   0] |\n",
            "|                                       |   [  0   0  17   0] |\n",
            "|                                       |  [  0   1   0   9]] |\n",
            "|    Decision Tree (with GridSearch)    |  [[239   1   0   0] |\n",
            "|                                       |   [  6  69   4   0] |\n",
            "|                                       |   [  0   0  17   0] |\n",
            "|                                       |  [  0   1   0   9]] |\n",
            "|     ------------------------------    |  ------------------ |\n",
            "|       Random Forest (with GINI)       |  [[239   1   0   0] |\n",
            "|                                       |   [  4  71   3   1] |\n",
            "|                                       |   [  0   1  14   2] |\n",
            "|                                       |  [  0   2   0   8]] |\n",
            "|      Random Forest (with ENTROPY)     |  [[240   0   0   0] |\n",
            "|                                       |   [  2  71   4   2] |\n",
            "|                                       |   [  0   1  13   3] |\n",
            "|                                       |  [  0   1   0   9]] |\n",
            "|    Random Forest (with GridSearch)    |  [[239   1   0   0] |\n",
            "|                                       |   [  5  72   2   0] |\n",
            "|                                       |   [  0   0  17   0] |\n",
            "|                                       |  [  0   1   0   9]] |\n",
            "|     ------------------------------    |  ------------------ |\n",
            "|         Multi Layer Perceptron        |  [[240   0   0   0] |\n",
            "|                                       |   [  2  76   1   0] |\n",
            "|                                       |   [  0   0  17   0] |\n",
            "|                                       |  [  0   1   0   9]] |\n",
            "+---------------------------------------+---------------------+\n"
          ]
        }
      ]
    },
    {
      "cell_type": "markdown",
      "metadata": {
        "id": "wfOblN3it8X3"
      },
      "source": [
        "- ### **K-Fold Cross Validation :**\n"
      ]
    },
    {
      "cell_type": "code",
      "metadata": {
        "id": "hIFLN3M-uJpK"
      },
      "source": [
        "from sklearn.model_selection import cross_val_score"
      ],
      "execution_count": null,
      "outputs": []
    },
    {
      "cell_type": "code",
      "metadata": {
        "id": "lGITaTi0LgCd"
      },
      "source": [
        "accuracies_lr = cross_val_score(estimator=clf_lr, X=X_train, y=y_train, cv=10)\n",
        "accuracies_knn = cross_val_score(estimator=clf_knn, X=X_train, y=y_train, cv=10)\n",
        "accuracies_knnGS = cross_val_score(estimator=gs_knn, X=X_train, y=y_train, cv=10)\n",
        "accuracies_svc = cross_val_score(estimator=clf_svc, X=X_train, y=y_train, cv=10)\n",
        "accuracies_kernelSVC = cross_val_score(estimator=clf_kernelSVC, X=X_train, y=y_train, cv=10)\n",
        "accuracies_nbGB = cross_val_score(estimator=clf_nbGB, X=X_train, y=y_train, cv=10)\n",
        "accuracies_nbBNB = cross_val_score(estimator=clf_nbBNB, X=X_train, y=y_train, cv=10)\n",
        "accuracies_nbMNB = cross_val_score(estimator=clf_nbMNB, X=X_train_mm, y=y_train, cv=10)\n",
        "accuracies_dtGINI = cross_val_score(estimator=clf_dtGINI, X=X_train, y=y_train, cv=10)\n",
        "accuracies_dtENTROPY = cross_val_score(estimator=clf_dtENTROPY, X=X_train, y=y_train, cv=10)\n",
        "accuracies_dt = cross_val_score(estimator=clf_dt, X=X_train, y=y_train, cv=10)\n",
        "accuracies_rfcGINI = cross_val_score(estimator=clf_rfcGINI, X=X_train, y=y_train, cv=10)\n",
        "accuracies_rfcENTROPY = cross_val_score(estimator=clf_rfcENTROPY, X=X_train, y=y_train, cv=10)\n",
        "accuracies_rfcGS = cross_val_score(estimator=gs_rfc, X=X_train, y=y_train, cv=10)\n",
        "accuracies_mlp = cross_val_score(estimator=clf_mlp, X=X_train, y=y_train, cv=10)"
      ],
      "execution_count": null,
      "outputs": []
    },
    {
      "cell_type": "code",
      "metadata": {
        "colab": {
          "base_uri": "https://localhost:8080/"
        },
        "id": "143RhUJuK5Gj",
        "outputId": "e83d0996-fcd7-434b-b582-cb7d90b4816f"
      },
      "source": [
        "crossValidationTable = PrettyTable()\n",
        "crossValidationTable.field_names = [\"Model\", \"Mean of Accuracy\", \"Standard Deviation of Accuracy\"]\n",
        "crossValidationTable.add_row([\"Logistic Regression\", f\"{accuracies_lr.mean()*100:.2f}%\",f\"{accuracies_lr.std()*100:.2f}%\"])\n",
        "crossValidationTable.add_row([\"------------------------------\", \"------------------\", \"------------------\"])\n",
        "crossValidationTable.add_row([\"K Nearest Neighbor\", f\"{accuracies_knn.mean()*100:.2f}%\",f\"{accuracies_knn.std()*100:.2f}%\"])\n",
        "crossValidationTable.add_row([\"K Nearest Neighbor (with Grid Search)\", f\"{accuracies_knnGS.mean()*100:.2f}%\",f\"{accuracies_knnGS.std()*100:.2f}%\"])\n",
        "crossValidationTable.add_row([\"------------------------------\", \"------------------\", \"------------------\"])\n",
        "crossValidationTable.add_row([\"Support Vector Machine (with Linear)\", f\"{accuracies_svc.mean()*100:.2f}%\",f\"{accuracies_svc.std()*100:.2f}%\" ])\n",
        "crossValidationTable.add_row([\"Support Vector Machine (with Kernel)\", f\"{accuracies_kernelSVC.mean()*100:.2f}%\",f\"{accuracies_kernelSVC.std()*100:.2f}%\" ])\n",
        "crossValidationTable.add_row([\"------------------------------\", \"------------------\", \"------------------\"])\n",
        "crossValidationTable.add_row([\"Naïve Bayes (with Gaussian)\", f\"{accuracies_nbGB.mean()*100:.2f}%\",f\"{accuracies_nbGB.std()*100:.2f}%\" ])\n",
        "crossValidationTable.add_row([\"Naïve Bayes (with Bernoulli)\", f\"{accuracies_nbBNB.mean()*100:.2f}%\",f\"{accuracies_nbBNB.std()*100:.2f}%\" ])\n",
        "crossValidationTable.add_row([\"Naïve Bayes (with Multinomial)\", f\"{accuracies_nbMNB.mean()*100:.2f}%\",f\"{accuracies_nbMNB.std()*100:.2f}%\" ])\n",
        "crossValidationTable.add_row([\"------------------------------\", \"------------------\", \"------------------\"])\n",
        "crossValidationTable.add_row([\"Decision Tree (with GINI)\", f\"{accuracies_dtGINI.mean()*100:.2f}%\",f\"{accuracies_dtGINI.std()*100:.2f}%\" ])\n",
        "crossValidationTable.add_row([\"Decision Tree (with Entropy)\", f\"{accuracies_dtENTROPY.mean()*100:.2f}%\",f\"{accuracies_dtENTROPY.std()*100:.2f}%\" ])\n",
        "crossValidationTable.add_row([\"Decision Tree (with GridSearch)\", f\"{accuracies_dt.mean()*100:.2f}%\",f\"{accuracies_dt.std()*100:.2f}%\" ])\n",
        "crossValidationTable.add_row([\"------------------------------\", \"------------------\", \"------------------\"])\n",
        "crossValidationTable.add_row([\"Random Forest (with GINI)\", f\"{accuracies_rfcGINI.mean()*100:.2f}%\",f\"{accuracies_rfcGINI.std()*100:.2f}%\" ])\n",
        "crossValidationTable.add_row([\"Random Forest (with ENTROPY)\", f\"{accuracies_rfcENTROPY.mean()*100:.2f}%\",f\"{accuracies_rfcENTROPY.std()*100:.2f}%\" ])\n",
        "crossValidationTable.add_row([\"Random Forest (with GridSearch)\", f\"{accuracies_rfcGS.mean()*100:.2f}%\",f\"{accuracies_rfcGS.std()*100:.2f}%\" ])\n",
        "crossValidationTable.add_row([\"------------------------------\", \"------------------\", \"------------------\"])\n",
        "crossValidationTable.add_row([\"Multi Layer Perceptron\", f\"{accuracies_mlp.mean()*100:.2f}%\",f\"{accuracies_mlp.std()*100:.2f}%\" ])\n",
        "print(crossValidationTable)"
      ],
      "execution_count": null,
      "outputs": [
        {
          "output_type": "stream",
          "name": "stdout",
          "text": [
            "+---------------------------------------+--------------------+--------------------------------+\n",
            "|                 Model                 |  Mean of Accuracy  | Standard Deviation of Accuracy |\n",
            "+---------------------------------------+--------------------+--------------------------------+\n",
            "|          Logistic Regression          |       82.70%       |             2.67%              |\n",
            "|     ------------------------------    | ------------------ |       ------------------       |\n",
            "|           K Nearest Neighbor          |       96.46%       |             2.21%              |\n",
            "| K Nearest Neighbor (with Grid Search) |       96.38%       |             1.80%              |\n",
            "|     ------------------------------    | ------------------ |       ------------------       |\n",
            "|  Support Vector Machine (with Linear) |       86.83%       |             1.98%              |\n",
            "|  Support Vector Machine (with Kernel) |       96.74%       |             1.87%              |\n",
            "|     ------------------------------    | ------------------ |       ------------------       |\n",
            "|      Naïve Bayes (with Gaussian)      |       77.49%       |             1.85%              |\n",
            "|      Naïve Bayes (with Bernoulli)     |       83.14%       |             2.21%              |\n",
            "|     Naïve Bayes (with Multinomial)    |       70.19%       |             0.20%              |\n",
            "|     ------------------------------    | ------------------ |       ------------------       |\n",
            "|       Decision Tree (with GINI)       |       98.26%       |             0.87%              |\n",
            "|      Decision Tree (with Entropy)     |       98.19%       |             1.13%              |\n",
            "|    Decision Tree (with GridSearch)    |       98.26%       |             0.93%              |\n",
            "|     ------------------------------    | ------------------ |       ------------------       |\n",
            "|       Random Forest (with GINI)       |       97.25%       |             1.48%              |\n",
            "|      Random Forest (with ENTROPY)     |       97.11%       |             1.74%              |\n",
            "|    Random Forest (with GridSearch)    |       98.12%       |             0.87%              |\n",
            "|     ------------------------------    | ------------------ |       ------------------       |\n",
            "|         Multi Layer Perceptron        |       98.33%       |             2.10%              |\n",
            "+---------------------------------------+--------------------+--------------------------------+\n"
          ]
        }
      ]
    },
    {
      "cell_type": "markdown",
      "metadata": {
        "id": "xjOQ1PIMtia9"
      },
      "source": [
        "- ### **Accuracy Table :**"
      ]
    },
    {
      "cell_type": "code",
      "metadata": {
        "colab": {
          "base_uri": "https://localhost:8080/",
          "height": 882
        },
        "id": "vqTnKk7Xtlpw",
        "outputId": "4a0114b4-874d-4c57-a66e-c2401ece6d48"
      },
      "source": [
        "accuracies = [\n",
        "              accuracy_score(y_test, y_pred_lr).round(4)*100,\n",
        "              accuracy_score(y_test, y_pred_knn).round(2)*100,\n",
        "              accuracy_score(y_test, y_pred_knnGS).round(4)*100,\n",
        "              accuracy_score(y_test, y_pred_svc).round(4)*100,\n",
        "              accuracy_score(y_test, y_pred_kernelSVC).round(4)*100,\n",
        "              accuracy_score(y_test, y_pred_nbGB).round(4)*100,\n",
        "              accuracy_score(y_test, y_pred_nbBNB).round(3)*100,\n",
        "              accuracy_score(y_test, y_pred_nbMNB).round(4)*100,\n",
        "              accuracy_score(y_test, y_pred_dtGINI).round(4)*100,\n",
        "              accuracy_score(y_test, y_pred_dtENTROPY).round(4)*100,\n",
        "              accuracy_score(y_test, y_pred_dtGS).round(4)*100,\n",
        "              accuracy_score(y_test, y_pred_rfcGINI).round(4)*100,\n",
        "              accuracy_score(y_test, y_pred_rfcENTROPY).round(3)*100,\n",
        "              accuracy_score(y_test, y_pred_rfcGS).round(2)*100,\n",
        "              accuracy_score(y_test, y_pred_mlp).round(3)*100\n",
        "]\n",
        "\n",
        "accuracyScoreTable = PrettyTable()\n",
        "accuracyScoreTable.field_names = [\"Model\", \"Accuracy Score (in %)\"]\n",
        "accuracyScoreTable.add_row([\"Logistic Regression\", accuracies[0]])\n",
        "accuracyScoreTable.add_row([\"------------------------------\", \"------------------\"])\n",
        "accuracyScoreTable.add_row([\"K Nearest Neighbor\", accuracies[1]])\n",
        "accuracyScoreTable.add_row([\"K Nearest Neighbor (with Grid Search)\", accuracies[2]])\n",
        "accuracyScoreTable.add_row([\"------------------------------\", \"------------------\"])\n",
        "accuracyScoreTable.add_row([\"Support Vector Machine (with Linear)\", accuracies[3]])\n",
        "accuracyScoreTable.add_row([\"Support Vector Machine (with Kernel)\", accuracies[4]])\n",
        "accuracyScoreTable.add_row([\"------------------------------\", \"------------------\"])\n",
        "accuracyScoreTable.add_row([\"Naïve Bayes (with Gaussian)\", accuracies[5]])\n",
        "accuracyScoreTable.add_row([\"Naïve Bayes (with Bernoulli)\", accuracies[6]])\n",
        "accuracyScoreTable.add_row([\"Naïve Bayes (with Multinomial)\", accuracies[7]])\n",
        "accuracyScoreTable.add_row([\"------------------------------\", \"------------------\"])\n",
        "accuracyScoreTable.add_row([\"Decision Tree (with GINI)\", accuracies[8]])\n",
        "accuracyScoreTable.add_row([\"Decision Tree (with Entropy)\", accuracies[9]])\n",
        "accuracyScoreTable.add_row([\"Decision Tree (with GridSearch)\", accuracies[10]])\n",
        "accuracyScoreTable.add_row([\"------------------------------\", \"------------------\"])\n",
        "accuracyScoreTable.add_row([\"Random Forest (with GINI)\", accuracies[11]])\n",
        "accuracyScoreTable.add_row([\"Random Forest (with ENTROPY)\", accuracies[12]])\n",
        "accuracyScoreTable.add_row([\"Random Forest (with GridSearch)\", accuracies[13]])\n",
        "accuracyScoreTable.add_row([\"------------------------------\", \"------------------\"])\n",
        "accuracyScoreTable.add_row([\"Multi Layer Perceptron\", accuracies[14]])\n",
        "\n",
        "print(accuracyScoreTable)"
      ],
      "execution_count": null,
      "outputs": [
        {
          "output_type": "stream",
          "name": "stdout",
          "text": [
            "+---------------------------------------+-----------------------+\n",
            "|                 Model                 | Accuracy Score (in %) |\n",
            "+---------------------------------------+-----------------------+\n",
            "|          Logistic Regression          |         80.35         |\n",
            "|     ------------------------------    |   ------------------  |\n",
            "|           K Nearest Neighbor          |          97.0         |\n",
            "| K Nearest Neighbor (with Grid Search) |         97.11         |\n",
            "|     ------------------------------    |   ------------------  |\n",
            "|  Support Vector Machine (with Linear) |         86.13         |\n",
            "|  Support Vector Machine (with Kernel) |         95.95         |\n",
            "|     ------------------------------    |   ------------------  |\n",
            "|      Naïve Bayes (with Gaussian)      |         72.54         |\n",
            "|      Naïve Bayes (with Bernoulli)     |          79.5         |\n",
            "|     Naïve Bayes (with Multinomial)    |         71.97         |\n",
            "|     ------------------------------    |   ------------------  |\n",
            "|       Decision Tree (with GINI)       |         96.82         |\n",
            "|      Decision Tree (with Entropy)     |         96.53         |\n",
            "|    Decision Tree (with GridSearch)    |         96.53         |\n",
            "|     ------------------------------    |   ------------------  |\n",
            "|       Random Forest (with GINI)       |         95.95         |\n",
            "|      Random Forest (with ENTROPY)     |          96.2         |\n",
            "|    Random Forest (with GridSearch)    |          97.0         |\n",
            "|     ------------------------------    |   ------------------  |\n",
            "|         Multi Layer Perceptron        |          98.8         |\n",
            "+---------------------------------------+-----------------------+\n"
          ]
        },
        {
          "output_type": "display_data",
          "data": {
            "image/png": "[encoded data removed]",
            "text/plain": [
              "<Figure size 432x288 with 1 Axes>"
            ]
          },
          "metadata": {
            "needs_background": "light"
          }
        }
      ]
    },
    {
      "cell_type": "markdown",
      "metadata": {
        "id": "x9V4xEU0oyXx"
      },
      "source": [
        "- Visualisation :"
      ]
    },
    {
      "cell_type": "code",
      "metadata": {
        "id": "ZnVYmJvmoxIo"
      },
      "source": [
        "plt.plot(models, accuracies)\n",
        "plt.xticks(rotation='vertical')\n",
        "plt.title('Accuracies of various models')\n",
        "plt.show()"
      ],
      "execution_count": null,
      "outputs": []
    },
    {
      "cell_type": "markdown",
      "metadata": {
        "id": "dPjJUhzxpdvw"
      },
      "source": [
        "## **Conclusion :**\n",
        "\n",
        "- In this assignment, we performed classification on Car evaluation dataset using various classification models such as:\n",
        "\n",
        "  1.   Gaussian Naïve Bayes\n",
        "  2.   Bernoulli Naïve Bayes\n",
        "  3.   Multinomial Naïve Bayes\n",
        "  4.   Logistic Regression with One vs Rest\n",
        "  5.   Support Vector Machine (SVM)\n",
        "  6.   K Nearest Neighbour (KNN)\n",
        "  7.   Decision Tree\n",
        "  8.   Random Forest Classifier\n",
        "  9.   Multi Layer Perceptron\n",
        "\n",
        "- Out of the results obtained from various models, we reach to a conclusion that MLP, KNN, Random forests and Decision Trees provide the most accurate results. Now lets begin our analysis by comparing Decision trees with KNN.\n",
        "\n",
        "- The accuracies obtained by these models are almost near to each other(~97%). Though both are non parametric methods, Decision Tree is faster as compared to KNN. The reason behind this can be attributed to the expensive real time execution taking place in KNN. Apart from this, Decision Trees also supports automatic feature interaction, a feature which KNN lacks.\n",
        "\n",
        "- Important thing to be noted here is that Random Forest classifier also gives amazing accuracy which is almost comparable to decision trees. In general scenario, Random forest tends to give higher accuracy compared to Decision Trees. So now let's have a comparison between Decision Tree and Random Forest classifier to decide the best classifier for our dataset in overall manner. \n",
        "\n",
        "- A decision tree is a collection of choices, whereas a random forest is a collection of decision trees. As a result, it is a lengthy yet sluggish procedure.\n",
        "\n",
        "- A decision tree, on the other hand, is quick and easy to use on huge data sets, especially linear data sets. The random forest model needs extensive training.\n",
        "\n",
        "- It is dependent on our needs. If we have only have a limited amount of time to work on a model, we'll almost certainly go for a decision tree. Random forests, on the other hand, are known for their predictability and stability.\n",
        "\n",
        "- Now at last, let's compare Multi Layer Perceptron, rather known as Artificial Neural Network with other classifiers. The main advantages that this model provides over other classifiers :\n",
        "\n",
        "  1.   ANNs have the ability to learn and model non-linear and complex relationships\n",
        "  2.   ANNs can generalize — After learning from the initial inputs and their relationships, it can infer unseen relationships on unseen data as well, thus making the model generalize and predict on unseen data.\n",
        "  3.   Unlike many other prediction techniques, ANN does not impose any restrictions on the input variables (like how they should be distributed).\n",
        "\n",
        "\n",
        "\n",
        "- Looking to our dataset and requirements, we conclude that MLP would be the most suitable model for the classification on our Car evaluation dataset to obtain highest accuracy. But if we want a balance between training time and accuracy, then Decision Trees with Gini Criterion would be the choice!\n"
      ]
    }
  ]
}